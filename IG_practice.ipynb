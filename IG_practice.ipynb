{
 "cells": [
  {
   "cell_type": "markdown",
   "id": "d64978fb-a170-4f11-a0c8-1431d881e05e",
   "metadata": {},
   "source": [
    "### Understanding euclidean distance between observed points and reference dataframe "
   ]
  },
  {
   "cell_type": "code",
   "execution_count": 97,
   "id": "3cc94436-6218-4108-81ca-80a8f116060c",
   "metadata": {},
   "outputs": [],
   "source": [
    "import pandas as pd\n",
    "import numpy as np \n",
    "from scipy.spatial import distance\n",
    "import tensorflow as tf \n",
    "from tensorflow.keras import layers, models\n",
    "import matplotlib.pyplot as plt \n",
    "import seaborn as sns "
   ]
  },
  {
   "cell_type": "code",
   "execution_count": 3,
   "id": "00614e8b-f6f1-46e5-821d-f474a9a41608",
   "metadata": {},
   "outputs": [
    {
     "data": {
      "text/html": [
       "<div>\n",
       "<style scoped>\n",
       "    .dataframe tbody tr th:only-of-type {\n",
       "        vertical-align: middle;\n",
       "    }\n",
       "\n",
       "    .dataframe tbody tr th {\n",
       "        vertical-align: top;\n",
       "    }\n",
       "\n",
       "    .dataframe thead th {\n",
       "        text-align: right;\n",
       "    }\n",
       "</style>\n",
       "<table border=\"1\" class=\"dataframe\">\n",
       "  <thead>\n",
       "    <tr style=\"text-align: right;\">\n",
       "      <th></th>\n",
       "      <th>A</th>\n",
       "      <th>B</th>\n",
       "      <th>C</th>\n",
       "      <th>D</th>\n",
       "    </tr>\n",
       "  </thead>\n",
       "  <tbody>\n",
       "    <tr>\n",
       "      <th>0</th>\n",
       "      <td>95</td>\n",
       "      <td>65</td>\n",
       "      <td>28</td>\n",
       "      <td>87</td>\n",
       "    </tr>\n",
       "    <tr>\n",
       "      <th>1</th>\n",
       "      <td>75</td>\n",
       "      <td>12</td>\n",
       "      <td>75</td>\n",
       "      <td>8</td>\n",
       "    </tr>\n",
       "  </tbody>\n",
       "</table>\n",
       "</div>"
      ],
      "text/plain": [
       "    A   B   C   D\n",
       "0  95  65  28  87\n",
       "1  75  12  75   8"
      ]
     },
     "execution_count": 3,
     "metadata": {},
     "output_type": "execute_result"
    }
   ],
   "source": [
    "df = pd.DataFrame(np.random.randint(0,100,size=(100, 4)), columns=list('ABCD'))\n",
    "df.head(2)"
   ]
  },
  {
   "cell_type": "code",
   "execution_count": 4,
   "id": "da48e769-0ad5-491b-94d4-3be365d8e0e3",
   "metadata": {},
   "outputs": [
    {
     "data": {
      "text/plain": [
       "A     1\n",
       "B    94\n",
       "C    44\n",
       "D    77\n",
       "Name: 0, dtype: int32"
      ]
     },
     "metadata": {},
     "output_type": "display_data"
    }
   ],
   "source": [
    "df_example = pd.DataFrame(np.random.randint(0,100,size=(1,4)), columns=list('ABCD')).iloc[0]\n",
    "display(df_example)"
   ]
  },
  {
   "cell_type": "code",
   "execution_count": 5,
   "id": "e17b92c2-8456-4ad5-a0d5-c32473fa7676",
   "metadata": {},
   "outputs": [
    {
     "data": {
      "text/plain": [
       "(4,)"
      ]
     },
     "execution_count": 5,
     "metadata": {},
     "output_type": "execute_result"
    }
   ],
   "source": [
    "df_array = df_example.to_numpy()\n",
    "df_array.shape "
   ]
  },
  {
   "cell_type": "markdown",
   "id": "9450ae67-736f-459c-afab-702b381d1ab1",
   "metadata": {},
   "source": [
    "\n",
    "<!-- \n",
    "Distance = \\sum_{col=0}^{Total\\ Columns} Euclidean\\ Distance(df[col], df_{Ref}[col])   -->\n",
    "$$\n",
    "d(p, q) = \\sqrt({(p_1 - q_1)^2 + (p_2 - q_2)^2 + ... + (p_n - q_n)^2}) \\newline \n",
    "d(p, q) = \\sqrt(sum((p_i - q_i)^2 for\\ i\\ in\\ range(n)))\n",
    "$$"
   ]
  },
  {
   "cell_type": "code",
   "execution_count": 6,
   "id": "d95a6004-0ba4-4f9b-b628-1260e58e42e0",
   "metadata": {},
   "outputs": [
    {
     "name": "stdout",
     "output_type": "stream",
     "text": [
      "Distances:\n",
      "0     100.164864\n",
      "1     133.873074\n",
      "2      83.964278\n",
      "3      94.773414\n",
      "4      71.260087\n",
      "         ...    \n",
      "95     94.228446\n",
      "96     59.211485\n",
      "97     83.276647\n",
      "98    105.470375\n",
      "99    107.079410\n",
      "Length: 100, dtype: float64\n"
     ]
    },
    {
     "data": {
      "text/plain": [
       "(32, 26.457513110645905)"
      ]
     },
     "execution_count": 6,
     "metadata": {},
     "output_type": "execute_result"
    }
   ],
   "source": [
    "distances = df.agg(distance.euclidean, 1, v=df_example.to_numpy())\n",
    "print(f'Distances:\\n{distances}')\n",
    "nearest_index = distances.idxmin()\n",
    "nearest_index, min(distances)"
   ]
  },
  {
   "cell_type": "markdown",
   "id": "799eaa00-31b8-4202-90af-886df2014f0c",
   "metadata": {},
   "source": [
    "### Hence, the row with the lowest euclidean distance is chosen as reference for this particular test-data"
   ]
  },
  {
   "cell_type": "code",
   "execution_count": 7,
   "id": "d310bb4b-2f48-439c-9921-10ab660b6eec",
   "metadata": {},
   "outputs": [],
   "source": [
    "# df.loc[[nearest_index]], df_example"
   ]
  },
  {
   "cell_type": "code",
   "execution_count": 8,
   "id": "57134fdd-c9e4-4abb-ac0e-45fee157ba8d",
   "metadata": {},
   "outputs": [
    {
     "name": "stdout",
     "output_type": "stream",
     "text": [
      "32    26.457513\n",
      "dtype: float64\n",
      "    A   B   C   D\n",
      "32  6  77  49  96\n",
      "\n"
     ]
    },
    {
     "data": {
      "text/plain": [
       "A     1\n",
       "B    94\n",
       "C    44\n",
       "D    77\n",
       "Name: 0, dtype: int32"
      ]
     },
     "execution_count": 8,
     "metadata": {},
     "output_type": "execute_result"
    }
   ],
   "source": [
    "reference_point = df.loc[[nearest_index]]\n",
    "print(reference_point.agg(distance.euclidean, 1, df_example.to_numpy()))\n",
    "print(reference_point)\n",
    "print()\n",
    "df_example"
   ]
  },
  {
   "cell_type": "code",
   "execution_count": 9,
   "id": "e7f5826a-cb81-45f3-af37-2a77b69143f5",
   "metadata": {},
   "outputs": [],
   "source": [
    "# number of steps in integrated gradients\n",
    "num_steps = 10"
   ]
  },
  {
   "cell_type": "code",
   "execution_count": 10,
   "id": "cb62bd46-eafa-4d0a-ba88-05a41e38a884",
   "metadata": {},
   "outputs": [
    {
     "data": {
      "text/plain": [
       "(4,)"
      ]
     },
     "execution_count": 10,
     "metadata": {},
     "output_type": "execute_result"
    }
   ],
   "source": [
    "reference_point_arr = reference_point.iloc[0].to_numpy()\n",
    "reference_point_arr.shape "
   ]
  },
  {
   "cell_type": "code",
   "execution_count": 11,
   "id": "05b2ff74-583b-4ec7-839c-7f11e56f0c69",
   "metadata": {},
   "outputs": [
    {
     "data": {
      "text/plain": [
       "(array([ 6, 77, 49, 96]), array([ 1, 94, 44, 77]))"
      ]
     },
     "execution_count": 11,
     "metadata": {},
     "output_type": "execute_result"
    }
   ],
   "source": [
    "reference_point_arr, df_array "
   ]
  },
  {
   "cell_type": "code",
   "execution_count": 12,
   "id": "0dfc5d83-b742-4aa8-8b36-d03e1be6379d",
   "metadata": {},
   "outputs": [
    {
     "data": {
      "text/plain": [
       "array([[ 6.  , 77.  , 49.  , 96.  ],\n",
       "       [ 4.75, 81.25, 47.75, 91.25],\n",
       "       [ 3.5 , 85.5 , 46.5 , 86.5 ],\n",
       "       [ 2.25, 89.75, 45.25, 81.75],\n",
       "       [ 1.  , 94.  , 44.  , 77.  ]])"
      ]
     },
     "execution_count": 12,
     "metadata": {},
     "output_type": "execute_result"
    }
   ],
   "source": [
    "np.linspace(reference_point_arr, df_array, 5)"
   ]
  },
  {
   "cell_type": "code",
   "execution_count": 13,
   "id": "9729289b-5599-428a-95af-ca8965b9cddf",
   "metadata": {},
   "outputs": [],
   "source": [
    "# Returns 2000 evenly spaced samples, calculated over the interval [reference_point_arr, df_array]\n",
    "interp_output = tf.convert_to_tensor(np.linspace(reference_point_arr, df_array, num_steps))"
   ]
  },
  {
   "cell_type": "code",
   "execution_count": 14,
   "id": "4791438e-33bf-44cc-9ae9-23ac481bd19c",
   "metadata": {},
   "outputs": [
    {
     "data": {
      "text/plain": [
       "TensorShape([10, 4])"
      ]
     },
     "execution_count": 14,
     "metadata": {},
     "output_type": "execute_result"
    }
   ],
   "source": [
    "interp_output.shape "
   ]
  },
  {
   "cell_type": "code",
   "execution_count": 15,
   "id": "0080de17-aa31-4fb8-8271-a6bbade4a765",
   "metadata": {},
   "outputs": [
    {
     "name": "stderr",
     "output_type": "stream",
     "text": [
      "D:\\After\\Fuse AI Trainee\\proj\\madi_env\\Lib\\site-packages\\keras\\src\\layers\\core\\dense.py:87: UserWarning: Do not pass an `input_shape`/`input_dim` argument to a layer. When using Sequential models, prefer using an `Input(shape)` object as the first layer in the model instead.\n",
      "  super().__init__(activity_regularizer=activity_regularizer, **kwargs)\n"
     ]
    },
    {
     "data": {
      "text/html": [
       "<pre style=\"white-space:pre;overflow-x:auto;line-height:normal;font-family:Menlo,'DejaVu Sans Mono',consolas,'Courier New',monospace\"><span style=\"font-weight: bold\">Model: \"sequential\"</span>\n",
       "</pre>\n"
      ],
      "text/plain": [
       "\u001b[1mModel: \"sequential\"\u001b[0m\n"
      ]
     },
     "metadata": {},
     "output_type": "display_data"
    },
    {
     "data": {
      "text/html": [
       "<pre style=\"white-space:pre;overflow-x:auto;line-height:normal;font-family:Menlo,'DejaVu Sans Mono',consolas,'Courier New',monospace\">┏━━━━━━━━━━━━━━━━━━━━━━━━━━┳━━━━━━━━━━━━━━━━━━━━┳━━━━━━━━━━━━┓\n",
       "┃<span style=\"font-weight: bold\"> Layer (type)             </span>┃<span style=\"font-weight: bold\"> Output Shape       </span>┃<span style=\"font-weight: bold\">    Param # </span>┃\n",
       "┡━━━━━━━━━━━━━━━━━━━━━━━━━━╇━━━━━━━━━━━━━━━━━━━━╇━━━━━━━━━━━━┩\n",
       "│ dense (<span style=\"color: #0087ff; text-decoration-color: #0087ff\">Dense</span>)            │ (<span style=\"color: #00d7ff; text-decoration-color: #00d7ff\">None</span>, <span style=\"color: #00af00; text-decoration-color: #00af00\">128</span>)        │        <span style=\"color: #00af00; text-decoration-color: #00af00\">640</span> │\n",
       "├──────────────────────────┼────────────────────┼────────────┤\n",
       "│ dropout (<span style=\"color: #0087ff; text-decoration-color: #0087ff\">Dropout</span>)        │ (<span style=\"color: #00d7ff; text-decoration-color: #00d7ff\">None</span>, <span style=\"color: #00af00; text-decoration-color: #00af00\">128</span>)        │          <span style=\"color: #00af00; text-decoration-color: #00af00\">0</span> │\n",
       "├──────────────────────────┼────────────────────┼────────────┤\n",
       "│ dense_1 (<span style=\"color: #0087ff; text-decoration-color: #0087ff\">Dense</span>)          │ (<span style=\"color: #00d7ff; text-decoration-color: #00d7ff\">None</span>, <span style=\"color: #00af00; text-decoration-color: #00af00\">128</span>)        │     <span style=\"color: #00af00; text-decoration-color: #00af00\">16,512</span> │\n",
       "├──────────────────────────┼────────────────────┼────────────┤\n",
       "│ dropout_1 (<span style=\"color: #0087ff; text-decoration-color: #0087ff\">Dropout</span>)      │ (<span style=\"color: #00d7ff; text-decoration-color: #00d7ff\">None</span>, <span style=\"color: #00af00; text-decoration-color: #00af00\">128</span>)        │          <span style=\"color: #00af00; text-decoration-color: #00af00\">0</span> │\n",
       "├──────────────────────────┼────────────────────┼────────────┤\n",
       "│ dense_2 (<span style=\"color: #0087ff; text-decoration-color: #0087ff\">Dense</span>)          │ (<span style=\"color: #00d7ff; text-decoration-color: #00d7ff\">None</span>, <span style=\"color: #00af00; text-decoration-color: #00af00\">128</span>)        │     <span style=\"color: #00af00; text-decoration-color: #00af00\">16,512</span> │\n",
       "├──────────────────────────┼────────────────────┼────────────┤\n",
       "│ dropout_2 (<span style=\"color: #0087ff; text-decoration-color: #0087ff\">Dropout</span>)      │ (<span style=\"color: #00d7ff; text-decoration-color: #00d7ff\">None</span>, <span style=\"color: #00af00; text-decoration-color: #00af00\">128</span>)        │          <span style=\"color: #00af00; text-decoration-color: #00af00\">0</span> │\n",
       "├──────────────────────────┼────────────────────┼────────────┤\n",
       "│ dense_3 (<span style=\"color: #0087ff; text-decoration-color: #0087ff\">Dense</span>)          │ (<span style=\"color: #00d7ff; text-decoration-color: #00d7ff\">None</span>, <span style=\"color: #00af00; text-decoration-color: #00af00\">1</span>)          │        <span style=\"color: #00af00; text-decoration-color: #00af00\">129</span> │\n",
       "└──────────────────────────┴────────────────────┴────────────┘\n",
       "</pre>\n"
      ],
      "text/plain": [
       "┏━━━━━━━━━━━━━━━━━━━━━━━━━━┳━━━━━━━━━━━━━━━━━━━━┳━━━━━━━━━━━━┓\n",
       "┃\u001b[1m \u001b[0m\u001b[1mLayer (type)            \u001b[0m\u001b[1m \u001b[0m┃\u001b[1m \u001b[0m\u001b[1mOutput Shape      \u001b[0m\u001b[1m \u001b[0m┃\u001b[1m \u001b[0m\u001b[1m   Param #\u001b[0m\u001b[1m \u001b[0m┃\n",
       "┡━━━━━━━━━━━━━━━━━━━━━━━━━━╇━━━━━━━━━━━━━━━━━━━━╇━━━━━━━━━━━━┩\n",
       "│ dense (\u001b[38;5;33mDense\u001b[0m)            │ (\u001b[38;5;45mNone\u001b[0m, \u001b[38;5;34m128\u001b[0m)        │        \u001b[38;5;34m640\u001b[0m │\n",
       "├──────────────────────────┼────────────────────┼────────────┤\n",
       "│ dropout (\u001b[38;5;33mDropout\u001b[0m)        │ (\u001b[38;5;45mNone\u001b[0m, \u001b[38;5;34m128\u001b[0m)        │          \u001b[38;5;34m0\u001b[0m │\n",
       "├──────────────────────────┼────────────────────┼────────────┤\n",
       "│ dense_1 (\u001b[38;5;33mDense\u001b[0m)          │ (\u001b[38;5;45mNone\u001b[0m, \u001b[38;5;34m128\u001b[0m)        │     \u001b[38;5;34m16,512\u001b[0m │\n",
       "├──────────────────────────┼────────────────────┼────────────┤\n",
       "│ dropout_1 (\u001b[38;5;33mDropout\u001b[0m)      │ (\u001b[38;5;45mNone\u001b[0m, \u001b[38;5;34m128\u001b[0m)        │          \u001b[38;5;34m0\u001b[0m │\n",
       "├──────────────────────────┼────────────────────┼────────────┤\n",
       "│ dense_2 (\u001b[38;5;33mDense\u001b[0m)          │ (\u001b[38;5;45mNone\u001b[0m, \u001b[38;5;34m128\u001b[0m)        │     \u001b[38;5;34m16,512\u001b[0m │\n",
       "├──────────────────────────┼────────────────────┼────────────┤\n",
       "│ dropout_2 (\u001b[38;5;33mDropout\u001b[0m)      │ (\u001b[38;5;45mNone\u001b[0m, \u001b[38;5;34m128\u001b[0m)        │          \u001b[38;5;34m0\u001b[0m │\n",
       "├──────────────────────────┼────────────────────┼────────────┤\n",
       "│ dense_3 (\u001b[38;5;33mDense\u001b[0m)          │ (\u001b[38;5;45mNone\u001b[0m, \u001b[38;5;34m1\u001b[0m)          │        \u001b[38;5;34m129\u001b[0m │\n",
       "└──────────────────────────┴────────────────────┴────────────┘\n"
      ]
     },
     "metadata": {},
     "output_type": "display_data"
    },
    {
     "data": {
      "text/html": [
       "<pre style=\"white-space:pre;overflow-x:auto;line-height:normal;font-family:Menlo,'DejaVu Sans Mono',consolas,'Courier New',monospace\"><span style=\"font-weight: bold\"> Total params: </span><span style=\"color: #00af00; text-decoration-color: #00af00\">33,793</span> (132.00 KB)\n",
       "</pre>\n"
      ],
      "text/plain": [
       "\u001b[1m Total params: \u001b[0m\u001b[38;5;34m33,793\u001b[0m (132.00 KB)\n"
      ]
     },
     "metadata": {},
     "output_type": "display_data"
    },
    {
     "data": {
      "text/html": [
       "<pre style=\"white-space:pre;overflow-x:auto;line-height:normal;font-family:Menlo,'DejaVu Sans Mono',consolas,'Courier New',monospace\"><span style=\"font-weight: bold\"> Trainable params: </span><span style=\"color: #00af00; text-decoration-color: #00af00\">33,793</span> (132.00 KB)\n",
       "</pre>\n"
      ],
      "text/plain": [
       "\u001b[1m Trainable params: \u001b[0m\u001b[38;5;34m33,793\u001b[0m (132.00 KB)\n"
      ]
     },
     "metadata": {},
     "output_type": "display_data"
    },
    {
     "data": {
      "text/html": [
       "<pre style=\"white-space:pre;overflow-x:auto;line-height:normal;font-family:Menlo,'DejaVu Sans Mono',consolas,'Courier New',monospace\"><span style=\"font-weight: bold\"> Non-trainable params: </span><span style=\"color: #00af00; text-decoration-color: #00af00\">0</span> (0.00 B)\n",
       "</pre>\n"
      ],
      "text/plain": [
       "\u001b[1m Non-trainable params: \u001b[0m\u001b[38;5;34m0\u001b[0m (0.00 B)\n"
      ]
     },
     "metadata": {},
     "output_type": "display_data"
    }
   ],
   "source": [
    "\n",
    "model = models.Sequential([\n",
    "    layers.Dense(128, input_shape=(4,), activation='relu', name='dense'),\n",
    "    layers.Dropout(0.5, name='dropout'),\n",
    "    layers.Dense(128, activation='relu', name='dense_1'),\n",
    "    layers.Dropout(0.5, name='dropout_1'),\n",
    "    layers.Dense(128, activation='relu', name='dense_2'),\n",
    "    layers.Dropout(0.5, name='dropout_2'),\n",
    "    layers.Dense(1, activation='sigmoid', name='dense_3')  # Assuming binary classification\n",
    "])\n",
    "\n",
    "# Compile the model\n",
    "model.compile(optimizer='adam', loss='binary_crossentropy', metrics=['accuracy'])\n",
    "\n",
    "model.summary()"
   ]
  },
  {
   "cell_type": "code",
   "execution_count": 16,
   "id": "5b06e6a4-5bb6-4e9b-94d7-ad4782724fbb",
   "metadata": {},
   "outputs": [
    {
     "data": {
      "text/plain": [
       "TensorShape([10, 4])"
      ]
     },
     "execution_count": 16,
     "metadata": {},
     "output_type": "execute_result"
    }
   ],
   "source": [
    "interp_output.shape "
   ]
  },
  {
   "cell_type": "code",
   "execution_count": 17,
   "id": "c4280496-4ae7-44e9-9ebe-c9824b38d19d",
   "metadata": {},
   "outputs": [],
   "source": [
    "with tf.GradientTape() as tape:\n",
    "    tape.watch(interp_output)\n",
    "    outs = model(interp_output)"
   ]
  },
  {
   "cell_type": "code",
   "execution_count": 18,
   "id": "0a371e95-02cd-4c89-a666-9214e24fcce4",
   "metadata": {},
   "outputs": [
    {
     "data": {
      "text/plain": [
       "TensorShape([10, 1])"
      ]
     },
     "execution_count": 18,
     "metadata": {},
     "output_type": "execute_result"
    }
   ],
   "source": [
    "outs.shape"
   ]
  },
  {
   "cell_type": "code",
   "execution_count": 19,
   "id": "de9ba5fd-80c9-4d72-8529-57d679292c4b",
   "metadata": {},
   "outputs": [
    {
     "data": {
      "text/plain": [
       "(<tf.Tensor: shape=(10, 1), dtype=float32, numpy=\n",
       " array([[1.2888042e-06],\n",
       "        [1.6070846e-06],\n",
       "        [1.9538404e-06],\n",
       "        [2.3143193e-06],\n",
       "        [2.6264904e-06],\n",
       "        [2.9998455e-06],\n",
       "        [3.4890888e-06],\n",
       "        [4.0254195e-06],\n",
       "        [4.4573767e-06],\n",
       "        [5.0451472e-06]], dtype=float32)>,\n",
       " <tf.Tensor: shape=(10, 4), dtype=float64, numpy=\n",
       " array([[ 6.        , 77.        , 49.        , 96.        ],\n",
       "        [ 5.44444444, 78.88888889, 48.44444444, 93.88888889],\n",
       "        [ 4.88888889, 80.77777778, 47.88888889, 91.77777778],\n",
       "        [ 4.33333333, 82.66666667, 47.33333333, 89.66666667],\n",
       "        [ 3.77777778, 84.55555556, 46.77777778, 87.55555556],\n",
       "        [ 3.22222222, 86.44444444, 46.22222222, 85.44444444],\n",
       "        [ 2.66666667, 88.33333333, 45.66666667, 83.33333333],\n",
       "        [ 2.11111111, 90.22222222, 45.11111111, 81.22222222],\n",
       "        [ 1.55555556, 92.11111111, 44.55555556, 79.11111111],\n",
       "        [ 1.        , 94.        , 44.        , 77.        ]])>)"
      ]
     },
     "execution_count": 19,
     "metadata": {},
     "output_type": "execute_result"
    }
   ],
   "source": [
    "outs , interp_output"
   ]
  },
  {
   "cell_type": "code",
   "execution_count": 20,
   "id": "e0ee6fbd-f7b4-43cf-9f9a-c1a7e11cbe84",
   "metadata": {},
   "outputs": [
    {
     "data": {
      "text/plain": [
       "<tf.Tensor: shape=(10, 4), dtype=float64, numpy=\n",
       "array([[ 4.02633589e-08,  3.81116116e-09, -1.46516328e-07,\n",
       "        -1.12856398e-07],\n",
       "       [ 5.83518762e-08, -3.46154039e-09, -1.85339061e-07,\n",
       "        -1.33202136e-07],\n",
       "       [ 8.24097839e-08, -2.69497242e-08, -1.94900309e-07,\n",
       "        -1.58828854e-07],\n",
       "       [ 1.87055022e-07, -4.44061108e-08, -1.92857982e-07,\n",
       "        -2.01217475e-07],\n",
       "       [ 2.52547864e-07, -7.04147851e-08, -2.31302963e-07,\n",
       "        -2.04786687e-07],\n",
       "       [ 2.75134056e-07, -4.38490844e-08, -2.48920117e-07,\n",
       "        -2.77831475e-07],\n",
       "       [ 3.14332539e-07, -6.60230342e-08, -2.86600539e-07,\n",
       "        -3.09136283e-07],\n",
       "       [ 4.49587702e-07, -1.15903234e-07, -2.92640181e-07,\n",
       "        -3.36088334e-07],\n",
       "       [ 4.48435799e-07, -1.22887400e-07, -2.80918073e-07,\n",
       "        -4.01722048e-07],\n",
       "       [ 5.19263665e-07, -1.37477002e-07, -2.75344775e-07,\n",
       "        -4.80740368e-07]])>"
      ]
     },
     "execution_count": 20,
     "metadata": {},
     "output_type": "execute_result"
    }
   ],
   "source": [
    "gradients = tape.gradient(outs, interp_output)\n",
    "gradients"
   ]
  },
  {
   "cell_type": "code",
   "execution_count": 21,
   "id": "9d138472-b121-43ce-b172-1b693adae4c5",
   "metadata": {},
   "outputs": [
    {
     "data": {
      "text/plain": [
       "array([ 2.62738167e-06, -6.27560754e-07, -2.33534033e-06, -2.61641006e-06])"
      ]
     },
     "execution_count": 21,
     "metadata": {},
     "output_type": "execute_result"
    }
   ],
   "source": [
    "#gradients sum\n",
    "# integral over alpha from 0 to 1 on dF/dx_i(alpha)\n",
    "grad_sum = np.array(np.matrix(gradients).sum(axis=0).tolist()[0])\n",
    "grad_sum "
   ]
  },
  {
   "cell_type": "code",
   "execution_count": 22,
   "id": "aa6af3ce-ae0f-49ac-84a7-37d61eb262ec",
   "metadata": {},
   "outputs": [
    {
     "data": {
      "text/plain": [
       "(<tf.Tensor: shape=(), dtype=float64, numpy=2.62738166512122e-06>,\n",
       " <tf.Tensor: shape=(), dtype=float64, numpy=-6.275607535854988e-07>,\n",
       " <tf.Tensor: shape=(), dtype=float64, numpy=-2.335340326453661e-06>,\n",
       " <tf.Tensor: shape=(), dtype=float64, numpy=-2.616410057498797e-06>)"
      ]
     },
     "execution_count": 22,
     "metadata": {},
     "output_type": "execute_result"
    }
   ],
   "source": [
    "sum(gradients[:,0]), sum(gradients[:,1]),sum(gradients[:,2]),sum(gradients[:,3]) "
   ]
  },
  {
   "cell_type": "markdown",
   "id": "022ae173-8724-488b-b33d-4fe03fa9a17c",
   "metadata": {},
   "source": [
    "## Sum of all gradients for every variable "
   ]
  },
  {
   "cell_type": "code",
   "execution_count": 23,
   "id": "3626b07d-ea1d-4877-a48e-21fcc890147a",
   "metadata": {},
   "outputs": [
    {
     "data": {
      "text/plain": [
       "(array([ 6, 77, 49, 96]), array([ 1, 94, 44, 77]))"
      ]
     },
     "execution_count": 23,
     "metadata": {},
     "output_type": "execute_result"
    }
   ],
   "source": [
    "reference_point_arr, df_array"
   ]
  },
  {
   "cell_type": "code",
   "execution_count": 24,
   "id": "8901617f-e6db-4777-80ef-1dcaee4d3fa9",
   "metadata": {},
   "outputs": [
    {
     "data": {
      "text/plain": [
       "array([  5, -17,   5,  19])"
      ]
     },
     "execution_count": 24,
     "metadata": {},
     "output_type": "execute_result"
    }
   ],
   "source": [
    "# for the attribution \n",
    "# IG = difference * grad_sum\n",
    "# # ig_i = (x_i - x'_i) * integral over alpha from 0 to 1 on dF/dx_i(alpha)\n",
    "difference_ = reference_point_arr-df_array\n",
    "difference_\n"
   ]
  },
  {
   "cell_type": "code",
   "execution_count": 25,
   "id": "3752d513-a887-45d0-ad09-77739dd5700a",
   "metadata": {},
   "outputs": [
    {
     "data": {
      "text/plain": [
       "((4,), (4,))"
      ]
     },
     "execution_count": 25,
     "metadata": {},
     "output_type": "execute_result"
    }
   ],
   "source": [
    "grad_sum.shape, difference_.shape "
   ]
  },
  {
   "cell_type": "code",
   "execution_count": 26,
   "id": "50bf6fae-6a02-417d-9082-361e99b2ae2c",
   "metadata": {},
   "outputs": [
    {
     "data": {
      "text/plain": [
       "array([ 1.31369083e-06,  1.06685328e-06, -1.16767016e-06, -4.97117911e-06])"
      ]
     },
     "execution_count": 26,
     "metadata": {},
     "output_type": "execute_result"
    }
   ],
   "source": [
    "attribution = np.multiply(grad_sum, difference_) / float(num_steps)\n",
    "attribution "
   ]
  },
  {
   "cell_type": "code",
   "execution_count": 27,
   "id": "4738ae59-6808-48e5-8b24-979411e1f7af",
   "metadata": {},
   "outputs": [
    {
     "data": {
      "text/plain": [
       "-3.7583051588185866e-06"
      ]
     },
     "execution_count": 27,
     "metadata": {},
     "output_type": "execute_result"
    }
   ],
   "source": [
    "sum(attribution)"
   ]
  },
  {
   "cell_type": "code",
   "execution_count": 28,
   "id": "69615c3e-99bd-4493-8c4d-3b7970d0ee24",
   "metadata": {},
   "outputs": [
    {
     "data": {
      "text/plain": [
       "8.519393386130502e-06"
      ]
     },
     "execution_count": 28,
     "metadata": {},
     "output_type": "execute_result"
    }
   ],
   "source": [
    "denom = sum([abs(val) for val in attribution])\n",
    "denom "
   ]
  },
  {
   "cell_type": "code",
   "execution_count": 29,
   "id": "d409439a-d890-48fa-ae62-cd867c1535b8",
   "metadata": {},
   "outputs": [
    {
     "data": {
      "text/plain": [
       "(array([ 0.15420004,  0.12522644, -0.13706025, -0.58351327]),\n",
       " matrix([[ 4.02633589e-08,  3.81116116e-09, -1.46516328e-07,\n",
       "          -1.12856398e-07],\n",
       "         [ 5.83518762e-08, -3.46154039e-09, -1.85339061e-07,\n",
       "          -1.33202136e-07],\n",
       "         [ 8.24097839e-08, -2.69497242e-08, -1.94900309e-07,\n",
       "          -1.58828854e-07],\n",
       "         [ 1.87055022e-07, -4.44061108e-08, -1.92857982e-07,\n",
       "          -2.01217475e-07],\n",
       "         [ 2.52547864e-07, -7.04147851e-08, -2.31302963e-07,\n",
       "          -2.04786687e-07],\n",
       "         [ 2.75134056e-07, -4.38490844e-08, -2.48920117e-07,\n",
       "          -2.77831475e-07],\n",
       "         [ 3.14332539e-07, -6.60230342e-08, -2.86600539e-07,\n",
       "          -3.09136283e-07],\n",
       "         [ 4.49587702e-07, -1.15903234e-07, -2.92640181e-07,\n",
       "          -3.36088334e-07],\n",
       "         [ 4.48435799e-07, -1.22887400e-07, -2.80918073e-07,\n",
       "          -4.01722048e-07],\n",
       "         [ 5.19263665e-07, -1.37477002e-07, -2.75344775e-07,\n",
       "          -4.80740368e-07]]))"
      ]
     },
     "execution_count": 29,
     "metadata": {},
     "output_type": "execute_result"
    }
   ],
   "source": [
    "attribution/denom , np.matrix(gradients)"
   ]
  },
  {
   "cell_type": "code",
   "execution_count": 30,
   "id": "435ed889-f789-4837-b920-2fe610ff870f",
   "metadata": {},
   "outputs": [
    {
     "data": {
      "text/plain": [
       "[1.31369083256061e-06,\n",
       " 1.066853281095348e-06,\n",
       " 1.1676701632268305e-06,\n",
       " 4.971179109247714e-06]"
      ]
     },
     "execution_count": 30,
     "metadata": {},
     "output_type": "execute_result"
    }
   ],
   "source": [
    "# getting absolute value for the attribution/explanation\n",
    "attribution_ = [abs(v) for v in attribution]\n",
    "attribution_ "
   ]
  },
  {
   "cell_type": "code",
   "execution_count": 31,
   "id": "28f11e08-4d5b-4196-94a1-d32e72c065be",
   "metadata": {},
   "outputs": [
    {
     "data": {
      "text/html": [
       "<div>\n",
       "<style scoped>\n",
       "    .dataframe tbody tr th:only-of-type {\n",
       "        vertical-align: middle;\n",
       "    }\n",
       "\n",
       "    .dataframe tbody tr th {\n",
       "        vertical-align: top;\n",
       "    }\n",
       "\n",
       "    .dataframe thead th {\n",
       "        text-align: right;\n",
       "    }\n",
       "</style>\n",
       "<table border=\"1\" class=\"dataframe\">\n",
       "  <thead>\n",
       "    <tr style=\"text-align: right;\">\n",
       "      <th></th>\n",
       "      <th>A</th>\n",
       "      <th>B</th>\n",
       "      <th>C</th>\n",
       "      <th>D</th>\n",
       "    </tr>\n",
       "  </thead>\n",
       "  <tbody>\n",
       "    <tr>\n",
       "      <th>32</th>\n",
       "      <td>6</td>\n",
       "      <td>77</td>\n",
       "      <td>49</td>\n",
       "      <td>96</td>\n",
       "    </tr>\n",
       "  </tbody>\n",
       "</table>\n",
       "</div>"
      ],
      "text/plain": [
       "    A   B   C   D\n",
       "32  6  77  49  96"
      ]
     },
     "execution_count": 31,
     "metadata": {},
     "output_type": "execute_result"
    }
   ],
   "source": [
    "reference_point"
   ]
  },
  {
   "cell_type": "code",
   "execution_count": 32,
   "id": "248c3514-b79a-43c2-b5ff-667845d6adac",
   "metadata": {},
   "outputs": [
    {
     "data": {
      "text/plain": [
       "array([ 1.31369083e-06,  1.06685328e-06, -1.16767016e-06, -4.97117911e-06])"
      ]
     },
     "execution_count": 32,
     "metadata": {},
     "output_type": "execute_result"
    }
   ],
   "source": [
    "attribution "
   ]
  },
  {
   "cell_type": "code",
   "execution_count": 33,
   "id": "d203c77e-866e-49b3-8198-4d7e89eb25f8",
   "metadata": {},
   "outputs": [
    {
     "data": {
      "text/plain": [
       "RangeIndex(start=0, stop=100, step=1)"
      ]
     },
     "execution_count": 33,
     "metadata": {},
     "output_type": "execute_result"
    }
   ],
   "source": [
    "df.index "
   ]
  },
  {
   "cell_type": "code",
   "execution_count": 34,
   "id": "b20ff0be-5853-4e82-91f2-9ab42d9195bf",
   "metadata": {},
   "outputs": [
    {
     "name": "stdout",
     "output_type": "stream",
     "text": [
      "A\n",
      "B\n",
      "C\n",
      "D\n"
     ]
    },
    {
     "data": {
      "text/plain": [
       "({'A': 1.31369083256061e-06,\n",
       "  'B': 1.066853281095348e-06,\n",
       "  'C': -1.1676701632268305e-06,\n",
       "  'D': -4.971179109247714e-06},\n",
       " {'A': 6, 'B': 77, 'C': 49, 'D': 96})"
      ]
     },
     "execution_count": 34,
     "metadata": {},
     "output_type": "execute_result"
    }
   ],
   "source": [
    "attribution_dict = {}\n",
    "reference_point_dict = {}\n",
    "for i, col in enumerate(df_example.index):\n",
    "    print(col)\n",
    "    attribution_dict[col] = attribution[i]\n",
    "    reference_point_dict[col] = reference_point.iloc[0][col]\n",
    "attribution_dict, reference_point_dict"
   ]
  },
  {
   "cell_type": "code",
   "execution_count": 35,
   "id": "63748cf0-ccc4-44a5-bf8e-82f770dc7ec4",
   "metadata": {},
   "outputs": [
    {
     "data": {
      "text/plain": [
       "97"
      ]
     },
     "execution_count": 35,
     "metadata": {},
     "output_type": "execute_result"
    }
   ],
   "source": [
    "df.iloc[10]['A']"
   ]
  },
  {
   "cell_type": "markdown",
   "id": "884ed6e8-f803-4c3e-bb09-14fee2d24e31",
   "metadata": {},
   "source": [
    "### Plotting the Attribution Plot "
   ]
  },
  {
   "cell_type": "code",
   "execution_count": 36,
   "id": "0bc78742-6314-4af6-b059-04f76c03c6f5",
   "metadata": {},
   "outputs": [
    {
     "name": "stdout",
     "output_type": "stream",
     "text": [
      "\u001b[1m1/1\u001b[0m \u001b[32m━━━━━━━━━━━━━━━━━━━━\u001b[0m\u001b[37m\u001b[0m \u001b[1m0s\u001b[0m 55ms/step\n"
     ]
    },
    {
     "data": {
      "text/plain": [
       "array([[5.045138e-06]], dtype=float32)"
      ]
     },
     "execution_count": 36,
     "metadata": {},
     "output_type": "execute_result"
    }
   ],
   "source": [
    "anomaly_score = model.predict(np.matrix(np.array(df_example)))\n",
    "anomaly_score "
   ]
  },
  {
   "cell_type": "code",
   "execution_count": 37,
   "id": "6638c5e8-a8b2-4df8-8de0-98f50a2ef796",
   "metadata": {},
   "outputs": [
    {
     "data": {
      "text/plain": [
       "(A     1.0\n",
       " B    94.0\n",
       " C    44.0\n",
       " D    77.0\n",
       " Name: 0, dtype: float64,\n",
       "     A   B   C   D\n",
       " 32  6  77  49  96,\n",
       " {'A': 1.31369083256061e-06,\n",
       "  'B': 1.066853281095348e-06,\n",
       "  'C': -1.1676701632268305e-06,\n",
       "  'D': -4.971179109247714e-06})"
      ]
     },
     "execution_count": 37,
     "metadata": {},
     "output_type": "execute_result"
    }
   ],
   "source": [
    "df_example_val = pd.Series(df_example).astype(float)\n",
    "reference_point_val = reference_point.iloc[0].astype(float)\n",
    "attribution_val = pd.Series(attribution_dict).astype(float)\n",
    "df_example_val, reference_point, attribution_dict"
   ]
  },
  {
   "cell_type": "code",
   "execution_count": 38,
   "id": "29b8dbcc-13a6-4792-a67c-032be18fbffd",
   "metadata": {},
   "outputs": [],
   "source": [
    "df_attribution = pd.concat([df_example_val, reference_point_val, attribution_val], axis = 1,\n",
    "                           keys=['observed_value', 'expected_value', 'attribution'], sort = True)"
   ]
  },
  {
   "cell_type": "code",
   "execution_count": 39,
   "id": "89f0b941-7332-4481-be5a-41fa7c661047",
   "metadata": {},
   "outputs": [
    {
     "data": {
      "text/html": [
       "<div>\n",
       "<style scoped>\n",
       "    .dataframe tbody tr th:only-of-type {\n",
       "        vertical-align: middle;\n",
       "    }\n",
       "\n",
       "    .dataframe tbody tr th {\n",
       "        vertical-align: top;\n",
       "    }\n",
       "\n",
       "    .dataframe thead th {\n",
       "        text-align: right;\n",
       "    }\n",
       "</style>\n",
       "<table border=\"1\" class=\"dataframe\">\n",
       "  <thead>\n",
       "    <tr style=\"text-align: right;\">\n",
       "      <th></th>\n",
       "      <th>observed_value</th>\n",
       "      <th>expected_value</th>\n",
       "      <th>attribution</th>\n",
       "    </tr>\n",
       "  </thead>\n",
       "  <tbody>\n",
       "    <tr>\n",
       "      <th>A</th>\n",
       "      <td>1.0</td>\n",
       "      <td>6.0</td>\n",
       "      <td>0.000001</td>\n",
       "    </tr>\n",
       "    <tr>\n",
       "      <th>B</th>\n",
       "      <td>94.0</td>\n",
       "      <td>77.0</td>\n",
       "      <td>0.000001</td>\n",
       "    </tr>\n",
       "    <tr>\n",
       "      <th>C</th>\n",
       "      <td>44.0</td>\n",
       "      <td>49.0</td>\n",
       "      <td>-0.000001</td>\n",
       "    </tr>\n",
       "    <tr>\n",
       "      <th>D</th>\n",
       "      <td>77.0</td>\n",
       "      <td>96.0</td>\n",
       "      <td>-0.000005</td>\n",
       "    </tr>\n",
       "  </tbody>\n",
       "</table>\n",
       "</div>"
      ],
      "text/plain": [
       "   observed_value  expected_value  attribution\n",
       "A             1.0             6.0     0.000001\n",
       "B            94.0            77.0     0.000001\n",
       "C            44.0            49.0    -0.000001\n",
       "D            77.0            96.0    -0.000005"
      ]
     },
     "execution_count": 39,
     "metadata": {},
     "output_type": "execute_result"
    }
   ],
   "source": [
    "df_attribution"
   ]
  },
  {
   "cell_type": "code",
   "execution_count": 40,
   "id": "c62da1c3-9b0d-4506-8368-a75d02922d90",
   "metadata": {},
   "outputs": [],
   "source": [
    "#@title Plotting utilities\n",
    "def plot_attribution(df_attribution: pd.DataFrame, anomaly_score: float) -> None:\n",
    "  \"\"\"Plots the attribution as a pie chart.\n",
    "\n",
    "  The center contains the anmomaly score. The wedges are ordered clockwise\n",
    "  from the most blame to the least. The percentages are the normalized\n",
    "  percentages (Blame(d) / Sum of Blames). The values outside the wedges\n",
    "  indicate the observed value, and the expected value in parentheses.\n",
    "\n",
    "  Args:\n",
    "    df_attribution: dataframe with observed_value, expected_value, and\n",
    "    attribution for each dimension.\n",
    "    anomaly_score: score ranging between Normal (1) and Anomalous (0).\n",
    "\n",
    "  \"\"\"\n",
    "  df_attribution = df_attribution.sort_values(by='attribution', ascending=False)\n",
    "  norm = plt.Normalize()\n",
    "  names=[]\n",
    "  sizes = []\n",
    "  sum_big = 0\n",
    "  for fn, row in df_attribution.iterrows():\n",
    "    # Only show the dimensions with a blame > 5%.\n",
    "    if row.attribution > 0.07:\n",
    "      names.append('%s\\n%3.1f (%3.1f)' %(fn, row.observed_value, row.expected_value))\n",
    "      wedge_size = int(100* row.attribution)\n",
    "      sum_big += wedge_size\n",
    "      sizes.append(wedge_size)\n",
    "  names.append('other')\n",
    "  sizes.append(int(100 - sum_big))\n",
    "\n",
    "  # Create a circle for the center of the plot\n",
    "  num_p_score_steps = 100\n",
    "  center_color_index  = int(num_p_score_steps*anomaly_score)\n",
    "  my_circle=plt.Circle( (0,0), 0.45, facecolor=plt.cm.RdYlGn(\n",
    "      norm(range(num_p_score_steps+1)))[center_color_index],\n",
    "      edgecolor='white', linewidth=3)\n",
    "\n",
    "  fig, ax = plt.subplots()\n",
    "  fig.set_figheight(10)\n",
    "  fig.set_figwidth(10)\n",
    "\n",
    "  center_text = \"%.2f\" %(anomaly_score)\n",
    "  if (center_color_index < 20 ) or (center_color_index > 80):\n",
    "    text_color = 'white'\n",
    "  else:\n",
    "    text_color = 'black'\n",
    "  ax.text(0,0,center_text, fontsize=28,horizontalalignment='center',\n",
    "          color=text_color, weight=\"bold\")\n",
    "\n",
    "  # Custom colors --> colors will cycle\n",
    "  norm = plt.Normalize()\n",
    "  # Choose nine colors to cycle through to show contrast between slices.\n",
    "  pie_plot = plt.pie(sizes, labels=names, colors=plt.cm.RdYlBu(norm(range(9)), alpha=0.6),\n",
    "                     startangle=90, counterclock=False, autopct='%1.0f%%',\n",
    "                     pctdistance=0.70, textprops=\n",
    "                     dict(color=\"black\", weight=\"bold\", fontsize=28))\n",
    "\n",
    "  for lab in pie_plot[1]:\n",
    "    lab.set_fontsize(28)\n",
    "  p=plt.gcf()\n",
    "  p.gca().add_artist(my_circle)\n",
    "  plt.show()\n"
   ]
  },
  {
   "cell_type": "code",
   "execution_count": 41,
   "id": "f13ec215-5db8-44a5-8b58-82443a5900d5",
   "metadata": {
    "scrolled": true
   },
   "outputs": [
    {
     "name": "stderr",
     "output_type": "stream",
     "text": [
      "C:\\Users\\OMEN\\AppData\\Local\\Temp\\ipykernel_21092\\36954115.py:33: DeprecationWarning: Conversion of an array with ndim > 0 to a scalar is deprecated, and will error in future. Ensure you extract a single element from your array before performing this operation. (Deprecated NumPy 1.25.)\n",
      "  center_color_index  = int(num_p_score_steps*anomaly_score)\n",
      "C:\\Users\\OMEN\\AppData\\Local\\Temp\\ipykernel_21092\\36954115.py:42: DeprecationWarning: Conversion of an array with ndim > 0 to a scalar is deprecated, and will error in future. Ensure you extract a single element from your array before performing this operation. (Deprecated NumPy 1.25.)\n",
      "  center_text = \"%.2f\" %(anomaly_score)\n"
     ]
    },
    {
     "data": {
      "image/png": "[encoded data removed]",
      "text/plain": [
       "<Figure size 1000x1000 with 1 Axes>"
      ]
     },
     "metadata": {},
     "output_type": "display_data"
    }
   ],
   "source": [
    "plot_attribution(df_attribution, anomaly_score) "
   ]
  },
  {
   "cell_type": "code",
   "execution_count": 42,
   "id": "9bca213d-b78c-4a02-bf71-76d958d9196f",
   "metadata": {
    "scrolled": true
   },
   "outputs": [
    {
     "name": "stdout",
     "output_type": "stream",
     "text": [
      "          observed_value  expected_value  attribution\n",
      "Feature1        3.745401        1.559945     0.009284\n",
      "Feature2        9.507143        0.580836     0.437468\n",
      "Feature3        7.319939        8.661761     0.375464\n",
      "Feature4        5.986585        6.011150     0.095773\n",
      "Feature5        1.560186        7.080726     0.082010\n",
      "Anomaly Score: 0.18340450985343382\n"
     ]
    },
    {
     "data": {
      "image/png": "[encoded data removed]",
      "text/plain": [
       "<Figure size 1000x1000 with 1 Axes>"
      ]
     },
     "metadata": {},
     "output_type": "display_data"
    }
   ],
   "source": [
    "import pandas as pd\n",
    "import numpy as np\n",
    "import matplotlib.pyplot as plt\n",
    "\n",
    "# Generate random data for a DataFrame\n",
    "np.random.seed(42)  # For reproducibility\n",
    "\n",
    "# Create a demo DataFrame with 5 columns: observed_value, expected_value, and attribution\n",
    "df_attribution = pd.DataFrame({\n",
    "    'observed_value': np.random.uniform(0, 10, 5),  # Random observed values between 0 and 10\n",
    "    'expected_value': np.random.uniform(0, 10, 5),  # Random expected values between 0 and 10\n",
    "    'attribution': np.random.uniform(0, 1, 5)       # Random attribution values between 0 and 1\n",
    "}, index=['Feature1', 'Feature2', 'Feature3', 'Feature4', 'Feature5'])\n",
    "\n",
    "# Normalize the attribution column to sum up to 1\n",
    "df_attribution['attribution'] /= df_attribution['attribution'].sum()\n",
    "\n",
    "# Generate a random anomaly score between 0 and 1\n",
    "anomaly_score = np.random.uniform(0, 1)\n",
    "\n",
    "print(df_attribution)\n",
    "print(\"Anomaly Score:\", anomaly_score)\n",
    "\n",
    "\n",
    "plot_attribution(df_attribution, anomaly_score)\n"
   ]
  },
  {
   "cell_type": "code",
   "execution_count": 43,
   "id": "9367b95c-f91e-45ff-b455-2f39298dc8e9",
   "metadata": {},
   "outputs": [],
   "source": [
    "def plot_gradient_series(df_grad: pd.DataFrame, delta: np.array) -> None:\n",
    "    fig, ax = plt.subplots()\n",
    "    fig.set_figheight(12)\n",
    "    fig.set_figwidth(15)\n",
    "    n_points = len(df_grad)\n",
    "    colors = sns.color_palette('rainbow', df_grad.shape[1])\n",
    "    for ix, field_name in enumerate(df_grad):\n",
    "      series_color = colors[ix]\n",
    "      ig_series = (df_grad[field_name].cumsum()/float(n_points)) * delta[field_name]\n",
    "      ax.plot(df_grad.index, ig_series , linewidth=3.0, linestyle='-', marker=None, color=series_color)\n",
    "\n",
    "    ax.grid(linestyle='-', linewidth='0.5', color='darkgray')\n",
    "\n",
    "    legend = plt.legend(loc='upper left', shadow=False, fontsize='16', bbox_to_anchor=(1, 1), labels = list(df_grad))\n",
    "    legend.get_frame().set_facecolor('white')\n",
    "    plt.ylabel('Cumulative Gradients')\n",
    "\n",
    "    for item in ([ax.title, ax.xaxis.label, ax.yaxis.label] +\n",
    "             ax.get_xticklabels() + ax.get_yticklabels()):\n",
    "      item.set_fontsize(24)\n",
    "\n",
    "    for sp in ax.spines:\n",
    "       ax.spines[sp].set_color(\"black\")\n",
    "    ax.set_facecolor(\"white\")\n",
    "\n",
    "    plt.grid(True)\n",
    "    plt.show()"
   ]
  },
  {
   "cell_type": "markdown",
   "id": "9a31dbab-3ceb-4620-a809-595ee2187ad4",
   "metadata": {},
   "source": [
    "### Gradient Series"
   ]
  },
  {
   "cell_type": "code",
   "execution_count": 52,
   "id": "febb23cb-2d3c-40cd-901d-4d5431dda44c",
   "metadata": {},
   "outputs": [
    {
     "data": {
      "text/plain": [
       "dict"
      ]
     },
     "execution_count": 52,
     "metadata": {},
     "output_type": "execute_result"
    }
   ],
   "source": [
    "type(reference_point_dict )  "
   ]
  },
  {
   "cell_type": "code",
   "execution_count": 53,
   "id": "5e724ed6-1b89-4f86-9dbd-6aeaf26c0250",
   "metadata": {},
   "outputs": [
    {
     "data": {
      "text/plain": [
       "A     6\n",
       "B    77\n",
       "C    49\n",
       "D    96\n",
       "dtype: int32"
      ]
     },
     "execution_count": 53,
     "metadata": {},
     "output_type": "execute_result"
    }
   ],
   "source": [
    "nearest_reference_point = pd.Series(reference_point_dict)\n",
    "nearest_reference_point"
   ]
  },
  {
   "cell_type": "code",
   "execution_count": 55,
   "id": "6b2de7ab-61ed-4278-bd7d-3bec5d09e48f",
   "metadata": {},
   "outputs": [
    {
     "data": {
      "text/plain": [
       "(    0\n",
       " A   6\n",
       " B  77\n",
       " C  49\n",
       " D  96,\n",
       "    A   B   C   D\n",
       " 0  6  77  49  96)"
      ]
     },
     "execution_count": 55,
     "metadata": {},
     "output_type": "execute_result"
    }
   ],
   "source": [
    "nearest_reference_point.to_frame(), nearest_reference_point.to_frame().T"
   ]
  },
  {
   "cell_type": "code",
   "execution_count": 81,
   "id": "bec4e830-ab49-4ec2-926f-e53fb9408d64",
   "metadata": {},
   "outputs": [
    {
     "name": "stdout",
     "output_type": "stream",
     "text": [
      "<class 'pandas.core.frame.DataFrame'> <class 'pandas.core.frame.DataFrame'>\n"
     ]
    }
   ],
   "source": [
    "reference_ = nearest_reference_point.to_frame().T\n",
    "custom_data = pd.DataFrame(df_array).T\n",
    "print(type(reference_), type(custom_data))"
   ]
  },
  {
   "cell_type": "code",
   "execution_count": 91,
   "id": "a3ff033c-2a50-43d9-b23e-3ee03102c558",
   "metadata": {},
   "outputs": [
    {
     "name": "stdout",
     "output_type": "stream",
     "text": [
      "int32\n",
      "int32\n",
      "Index(['A', 'B', 'C', 'D'], dtype='object')\n",
      "RangeIndex(start=0, stop=4, step=1)\n",
      "Index(['A', 'B', 'C', 'D'], dtype='object')\n",
      "Index(['A', 'B', 'C', 'D'], dtype='object')\n"
     ]
    },
    {
     "data": {
      "text/plain": [
       "(A     6\n",
       " B    77\n",
       " C    49\n",
       " D    96\n",
       " Name: 0, dtype: int32,\n",
       " A     1\n",
       " B    94\n",
       " C    44\n",
       " D    77\n",
       " Name: 0, dtype: int32)"
      ]
     },
     "execution_count": 91,
     "metadata": {},
     "output_type": "execute_result"
    }
   ],
   "source": [
    "print(reference_.iloc[0].dtypes)\n",
    "print(custom_data.iloc[0].dtypes)\n",
    "\n",
    "print(reference_.columns)\n",
    "print(custom_data.columns)\n",
    "\n",
    "custom_data.columns = reference_.columns \n",
    "\n",
    "print(reference_.columns)\n",
    "print(custom_data.columns)\n",
    "\n",
    "reference_.iloc[0], custom_data.iloc[0]\n",
    "# reference_.shape, custom_data.shape "
   ]
  },
  {
   "cell_type": "code",
   "execution_count": 92,
   "id": "9b861bbe-51af-4544-a75b-f850d6877149",
   "metadata": {},
   "outputs": [
    {
     "data": {
      "text/plain": [
       "A     5\n",
       "B   -17\n",
       "C     5\n",
       "D    19\n",
       "Name: 0, dtype: int32"
      ]
     },
     "execution_count": 92,
     "metadata": {},
     "output_type": "execute_result"
    }
   ],
   "source": [
    "delta_normalized = reference_.iloc[0] - custom_data.iloc[0]\n",
    "delta_normalized "
   ]
  },
  {
   "cell_type": "code",
   "execution_count": 109,
   "id": "57240215-59a8-4178-a193-35a614a7a11d",
   "metadata": {},
   "outputs": [
    {
     "data": {
      "text/html": [
       "<div>\n",
       "<style scoped>\n",
       "    .dataframe tbody tr th:only-of-type {\n",
       "        vertical-align: middle;\n",
       "    }\n",
       "\n",
       "    .dataframe tbody tr th {\n",
       "        vertical-align: top;\n",
       "    }\n",
       "\n",
       "    .dataframe thead th {\n",
       "        text-align: right;\n",
       "    }\n",
       "</style>\n",
       "<table border=\"1\" class=\"dataframe\">\n",
       "  <thead>\n",
       "    <tr style=\"text-align: right;\">\n",
       "      <th></th>\n",
       "      <th>0</th>\n",
       "      <th>1</th>\n",
       "      <th>2</th>\n",
       "      <th>3</th>\n",
       "    </tr>\n",
       "  </thead>\n",
       "  <tbody>\n",
       "    <tr>\n",
       "      <th>0</th>\n",
       "      <td>4.026336e-08</td>\n",
       "      <td>3.811161e-09</td>\n",
       "      <td>-1.465163e-07</td>\n",
       "      <td>-1.128564e-07</td>\n",
       "    </tr>\n",
       "    <tr>\n",
       "      <th>1</th>\n",
       "      <td>5.835188e-08</td>\n",
       "      <td>-3.461540e-09</td>\n",
       "      <td>-1.853391e-07</td>\n",
       "      <td>-1.332021e-07</td>\n",
       "    </tr>\n",
       "    <tr>\n",
       "      <th>2</th>\n",
       "      <td>8.240978e-08</td>\n",
       "      <td>-2.694972e-08</td>\n",
       "      <td>-1.949003e-07</td>\n",
       "      <td>-1.588289e-07</td>\n",
       "    </tr>\n",
       "    <tr>\n",
       "      <th>3</th>\n",
       "      <td>1.870550e-07</td>\n",
       "      <td>-4.440611e-08</td>\n",
       "      <td>-1.928580e-07</td>\n",
       "      <td>-2.012175e-07</td>\n",
       "    </tr>\n",
       "    <tr>\n",
       "      <th>4</th>\n",
       "      <td>2.525479e-07</td>\n",
       "      <td>-7.041479e-08</td>\n",
       "      <td>-2.313030e-07</td>\n",
       "      <td>-2.047867e-07</td>\n",
       "    </tr>\n",
       "    <tr>\n",
       "      <th>5</th>\n",
       "      <td>2.751341e-07</td>\n",
       "      <td>-4.384908e-08</td>\n",
       "      <td>-2.489201e-07</td>\n",
       "      <td>-2.778315e-07</td>\n",
       "    </tr>\n",
       "    <tr>\n",
       "      <th>6</th>\n",
       "      <td>3.143325e-07</td>\n",
       "      <td>-6.602303e-08</td>\n",
       "      <td>-2.866005e-07</td>\n",
       "      <td>-3.091363e-07</td>\n",
       "    </tr>\n",
       "    <tr>\n",
       "      <th>7</th>\n",
       "      <td>4.495877e-07</td>\n",
       "      <td>-1.159032e-07</td>\n",
       "      <td>-2.926402e-07</td>\n",
       "      <td>-3.360883e-07</td>\n",
       "    </tr>\n",
       "    <tr>\n",
       "      <th>8</th>\n",
       "      <td>4.484358e-07</td>\n",
       "      <td>-1.228874e-07</td>\n",
       "      <td>-2.809181e-07</td>\n",
       "      <td>-4.017220e-07</td>\n",
       "    </tr>\n",
       "    <tr>\n",
       "      <th>9</th>\n",
       "      <td>5.192637e-07</td>\n",
       "      <td>-1.374770e-07</td>\n",
       "      <td>-2.753448e-07</td>\n",
       "      <td>-4.807404e-07</td>\n",
       "    </tr>\n",
       "  </tbody>\n",
       "</table>\n",
       "</div>"
      ],
      "text/plain": [
       "              0             1             2             3\n",
       "0  4.026336e-08  3.811161e-09 -1.465163e-07 -1.128564e-07\n",
       "1  5.835188e-08 -3.461540e-09 -1.853391e-07 -1.332021e-07\n",
       "2  8.240978e-08 -2.694972e-08 -1.949003e-07 -1.588289e-07\n",
       "3  1.870550e-07 -4.440611e-08 -1.928580e-07 -2.012175e-07\n",
       "4  2.525479e-07 -7.041479e-08 -2.313030e-07 -2.047867e-07\n",
       "5  2.751341e-07 -4.384908e-08 -2.489201e-07 -2.778315e-07\n",
       "6  3.143325e-07 -6.602303e-08 -2.866005e-07 -3.091363e-07\n",
       "7  4.495877e-07 -1.159032e-07 -2.926402e-07 -3.360883e-07\n",
       "8  4.484358e-07 -1.228874e-07 -2.809181e-07 -4.017220e-07\n",
       "9  5.192637e-07 -1.374770e-07 -2.753448e-07 -4.807404e-07"
      ]
     },
     "execution_count": 109,
     "metadata": {},
     "output_type": "execute_result"
    }
   ],
   "source": [
    "df_grad = pd.DataFrame(np.matrix(gradients))\n",
    "df_grad.head(20)"
   ]
  },
  {
   "cell_type": "code",
   "execution_count": 110,
   "id": "b7cd0070-9831-4fc8-aa88-9c5c40723250",
   "metadata": {},
   "outputs": [
    {
     "data": {
      "text/plain": [
       "RangeIndex(start=0, stop=4, step=1)"
      ]
     },
     "execution_count": 110,
     "metadata": {},
     "output_type": "execute_result"
    }
   ],
   "source": [
    "df_grad.columns "
   ]
  },
  {
   "cell_type": "code",
   "execution_count": 111,
   "id": "a2c06364-2a43-4381-b564-217ce31e17b7",
   "metadata": {},
   "outputs": [
    {
     "name": "stdout",
     "output_type": "stream",
     "text": [
      "0     1\n",
      "1     3\n",
      "2     6\n",
      "3    10\n",
      "dtype: int64\n"
     ]
    }
   ],
   "source": [
    "s = pd.Series([1, 2, 3, 4])\n",
    "print(s.cumsum())"
   ]
  },
  {
   "cell_type": "code",
   "execution_count": 112,
   "id": "9659322a-18d4-400d-b321-d69f78504f0c",
   "metadata": {},
   "outputs": [
    {
     "data": {
      "text/html": [
       "<div>\n",
       "<style scoped>\n",
       "    .dataframe tbody tr th:only-of-type {\n",
       "        vertical-align: middle;\n",
       "    }\n",
       "\n",
       "    .dataframe tbody tr th {\n",
       "        vertical-align: top;\n",
       "    }\n",
       "\n",
       "    .dataframe thead th {\n",
       "        text-align: right;\n",
       "    }\n",
       "</style>\n",
       "<table border=\"1\" class=\"dataframe\">\n",
       "  <thead>\n",
       "    <tr style=\"text-align: right;\">\n",
       "      <th></th>\n",
       "      <th>0</th>\n",
       "      <th>1</th>\n",
       "      <th>2</th>\n",
       "      <th>3</th>\n",
       "    </tr>\n",
       "  </thead>\n",
       "  <tbody>\n",
       "    <tr>\n",
       "      <th>0</th>\n",
       "      <td>4.026336e-08</td>\n",
       "      <td>3.811161e-09</td>\n",
       "      <td>-1.465163e-07</td>\n",
       "      <td>-1.128564e-07</td>\n",
       "    </tr>\n",
       "    <tr>\n",
       "      <th>1</th>\n",
       "      <td>9.861524e-08</td>\n",
       "      <td>3.496208e-10</td>\n",
       "      <td>-3.318554e-07</td>\n",
       "      <td>-2.460585e-07</td>\n",
       "    </tr>\n",
       "    <tr>\n",
       "      <th>2</th>\n",
       "      <td>1.810250e-07</td>\n",
       "      <td>-2.660010e-08</td>\n",
       "      <td>-5.267557e-07</td>\n",
       "      <td>-4.048874e-07</td>\n",
       "    </tr>\n",
       "    <tr>\n",
       "      <th>3</th>\n",
       "      <td>3.680800e-07</td>\n",
       "      <td>-7.100621e-08</td>\n",
       "      <td>-7.196137e-07</td>\n",
       "      <td>-6.061049e-07</td>\n",
       "    </tr>\n",
       "    <tr>\n",
       "      <th>4</th>\n",
       "      <td>6.206279e-07</td>\n",
       "      <td>-1.414210e-07</td>\n",
       "      <td>-9.509166e-07</td>\n",
       "      <td>-8.108915e-07</td>\n",
       "    </tr>\n",
       "    <tr>\n",
       "      <th>5</th>\n",
       "      <td>8.957620e-07</td>\n",
       "      <td>-1.852701e-07</td>\n",
       "      <td>-1.199837e-06</td>\n",
       "      <td>-1.088723e-06</td>\n",
       "    </tr>\n",
       "    <tr>\n",
       "      <th>6</th>\n",
       "      <td>1.210094e-06</td>\n",
       "      <td>-2.512931e-07</td>\n",
       "      <td>-1.486437e-06</td>\n",
       "      <td>-1.397859e-06</td>\n",
       "    </tr>\n",
       "    <tr>\n",
       "      <th>7</th>\n",
       "      <td>1.659682e-06</td>\n",
       "      <td>-3.671964e-07</td>\n",
       "      <td>-1.779077e-06</td>\n",
       "      <td>-1.733948e-06</td>\n",
       "    </tr>\n",
       "    <tr>\n",
       "      <th>8</th>\n",
       "      <td>2.108118e-06</td>\n",
       "      <td>-4.900838e-07</td>\n",
       "      <td>-2.059996e-06</td>\n",
       "      <td>-2.135670e-06</td>\n",
       "    </tr>\n",
       "    <tr>\n",
       "      <th>9</th>\n",
       "      <td>2.627382e-06</td>\n",
       "      <td>-6.275608e-07</td>\n",
       "      <td>-2.335340e-06</td>\n",
       "      <td>-2.616410e-06</td>\n",
       "    </tr>\n",
       "  </tbody>\n",
       "</table>\n",
       "</div>"
      ],
      "text/plain": [
       "              0             1             2             3\n",
       "0  4.026336e-08  3.811161e-09 -1.465163e-07 -1.128564e-07\n",
       "1  9.861524e-08  3.496208e-10 -3.318554e-07 -2.460585e-07\n",
       "2  1.810250e-07 -2.660010e-08 -5.267557e-07 -4.048874e-07\n",
       "3  3.680800e-07 -7.100621e-08 -7.196137e-07 -6.061049e-07\n",
       "4  6.206279e-07 -1.414210e-07 -9.509166e-07 -8.108915e-07\n",
       "5  8.957620e-07 -1.852701e-07 -1.199837e-06 -1.088723e-06\n",
       "6  1.210094e-06 -2.512931e-07 -1.486437e-06 -1.397859e-06\n",
       "7  1.659682e-06 -3.671964e-07 -1.779077e-06 -1.733948e-06\n",
       "8  2.108118e-06 -4.900838e-07 -2.059996e-06 -2.135670e-06\n",
       "9  2.627382e-06 -6.275608e-07 -2.335340e-06 -2.616410e-06"
      ]
     },
     "execution_count": 112,
     "metadata": {},
     "output_type": "execute_result"
    }
   ],
   "source": [
    "df_grad.cumsum()"
   ]
  },
  {
   "cell_type": "code",
   "execution_count": 115,
   "id": "5f8b32e4-be06-4e92-b79b-e7e1b8a2de55",
   "metadata": {},
   "outputs": [
    {
     "data": {
      "text/plain": [
       "RangeIndex(start=0, stop=4, step=1)"
      ]
     },
     "execution_count": 115,
     "metadata": {},
     "output_type": "execute_result"
    }
   ],
   "source": [
    "df_grad.columns "
   ]
  },
  {
   "cell_type": "code",
   "execution_count": 117,
   "id": "84f9259a-90d1-4b04-a29f-d9fd2a57ebfd",
   "metadata": {},
   "outputs": [
    {
     "name": "stderr",
     "output_type": "stream",
     "text": [
      "C:\\Users\\OMEN\\AppData\\Local\\Temp\\ipykernel_21092\\3270896656.py:1: FutureWarning: Series.__getitem__ treating keys as positions is deprecated. In a future version, integer keys will always be treated as labels (consistent with DataFrame behavior). To access a value by position, use `ser.iloc[pos]`\n",
      "  df_grad[0].cumsum()/float(len(df_grad)) * delta_normalized[0]\n"
     ]
    },
    {
     "data": {
      "text/plain": [
       "0    2.013168e-08\n",
       "1    4.930762e-08\n",
       "2    9.051251e-08\n",
       "3    1.840400e-07\n",
       "4    3.103140e-07\n",
       "5    4.478810e-07\n",
       "6    6.050472e-07\n",
       "7    8.298411e-07\n",
       "8    1.054059e-06\n",
       "9    1.313691e-06\n",
       "Name: 0, dtype: float64"
      ]
     },
     "execution_count": 117,
     "metadata": {},
     "output_type": "execute_result"
    }
   ],
   "source": [
    "df_grad[0].cumsum()/float(len(df_grad)) * delta_normalized[0]"
   ]
  },
  {
   "cell_type": "code",
   "execution_count": 98,
   "id": "6d5feace-5130-4bd4-903c-aa88a08035fb",
   "metadata": {},
   "outputs": [
    {
     "name": "stderr",
     "output_type": "stream",
     "text": [
      "C:\\Users\\OMEN\\AppData\\Local\\Temp\\ipykernel_21092\\1889041708.py:9: FutureWarning: Series.__getitem__ treating keys as positions is deprecated. In a future version, integer keys will always be treated as labels (consistent with DataFrame behavior). To access a value by position, use `ser.iloc[pos]`\n",
      "  ig_series = (df_grad[field_name].cumsum()/float(n_points)) * delta[field_name]\n"
     ]
    },
    {
     "data": {
      "image/png": "[encoded data removed]",
      "text/plain": [
       "<Figure size 1500x1200 with 1 Axes>"
      ]
     },
     "metadata": {},
     "output_type": "display_data"
    }
   ],
   "source": [
    "plot_gradient_series(df_grad, delta_normalized)"
   ]
  },
  {
   "cell_type": "code",
   "execution_count": null,
   "id": "72ce4075-d38e-4be9-8cf3-d7b501ba6dac",
   "metadata": {},
   "outputs": [],
   "source": []
  },
  {
   "cell_type": "code",
   "execution_count": null,
   "id": "9d89572b-f5c5-4757-bb07-7a14743e04cd",
   "metadata": {},
   "outputs": [],
   "source": []
  }
 ],
 "metadata": {
  "kernelspec": {
   "display_name": "madi_env",
   "language": "python",
   "name": "madi_env"
  },
  "language_info": {
   "codemirror_mode": {
    "name": "ipython",
    "version": 3
   },
   "file_extension": ".py",
   "mimetype": "text/x-python",
   "name": "python",
   "nbconvert_exporter": "python",
   "pygments_lexer": "ipython3",
   "version": "3.11.4"
  }
 },
 "nbformat": 4,
 "nbformat_minor": 5
}
