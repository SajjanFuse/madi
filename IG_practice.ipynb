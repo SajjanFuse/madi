{
 "cells": [
  {
   "cell_type": "markdown",
   "id": "d64978fb-a170-4f11-a0c8-1431d881e05e",
   "metadata": {},
   "source": [
    "### Understanding euclidean distance between observed points and reference dataframe "
   ]
  },
  {
   "cell_type": "code",
   "execution_count": 151,
   "id": "3cc94436-6218-4108-81ca-80a8f116060c",
   "metadata": {},
   "outputs": [],
   "source": [
    "import pandas as pd\n",
    "import numpy as np \n",
    "from scipy.spatial import distance\n",
    "import tensorflow as tf \n",
    "from tensorflow.keras import layers, models\n",
    "import matplotlib.pyplot as plt "
   ]
  },
  {
   "cell_type": "code",
   "execution_count": 106,
   "id": "00614e8b-f6f1-46e5-821d-f474a9a41608",
   "metadata": {},
   "outputs": [
    {
     "data": {
      "text/html": [
       "<div>\n",
       "<style scoped>\n",
       "    .dataframe tbody tr th:only-of-type {\n",
       "        vertical-align: middle;\n",
       "    }\n",
       "\n",
       "    .dataframe tbody tr th {\n",
       "        vertical-align: top;\n",
       "    }\n",
       "\n",
       "    .dataframe thead th {\n",
       "        text-align: right;\n",
       "    }\n",
       "</style>\n",
       "<table border=\"1\" class=\"dataframe\">\n",
       "  <thead>\n",
       "    <tr style=\"text-align: right;\">\n",
       "      <th></th>\n",
       "      <th>A</th>\n",
       "      <th>B</th>\n",
       "      <th>C</th>\n",
       "      <th>D</th>\n",
       "    </tr>\n",
       "  </thead>\n",
       "  <tbody>\n",
       "    <tr>\n",
       "      <th>0</th>\n",
       "      <td>31</td>\n",
       "      <td>73</td>\n",
       "      <td>68</td>\n",
       "      <td>92</td>\n",
       "    </tr>\n",
       "    <tr>\n",
       "      <th>1</th>\n",
       "      <td>96</td>\n",
       "      <td>7</td>\n",
       "      <td>76</td>\n",
       "      <td>6</td>\n",
       "    </tr>\n",
       "  </tbody>\n",
       "</table>\n",
       "</div>"
      ],
      "text/plain": [
       "    A   B   C   D\n",
       "0  31  73  68  92\n",
       "1  96   7  76   6"
      ]
     },
     "execution_count": 106,
     "metadata": {},
     "output_type": "execute_result"
    }
   ],
   "source": [
    "df = pd.DataFrame(np.random.randint(0,100,size=(100, 4)), columns=list('ABCD'))\n",
    "df.head(2)"
   ]
  },
  {
   "cell_type": "code",
   "execution_count": 107,
   "id": "da48e769-0ad5-491b-94d4-3be365d8e0e3",
   "metadata": {},
   "outputs": [
    {
     "data": {
      "text/plain": [
       "A    15\n",
       "B    94\n",
       "C    18\n",
       "D    80\n",
       "Name: 0, dtype: int32"
      ]
     },
     "metadata": {},
     "output_type": "display_data"
    }
   ],
   "source": [
    "df_example = pd.DataFrame(np.random.randint(0,100,size=(1,4)), columns=list('ABCD')).iloc[0]\n",
    "display(df_example)"
   ]
  },
  {
   "cell_type": "code",
   "execution_count": 108,
   "id": "e17b92c2-8456-4ad5-a0d5-c32473fa7676",
   "metadata": {},
   "outputs": [
    {
     "data": {
      "text/plain": [
       "(4,)"
      ]
     },
     "execution_count": 108,
     "metadata": {},
     "output_type": "execute_result"
    }
   ],
   "source": [
    "df_array = df_example.to_numpy()\n",
    "df_array.shape "
   ]
  },
  {
   "cell_type": "markdown",
   "id": "9450ae67-736f-459c-afab-702b381d1ab1",
   "metadata": {},
   "source": [
    "\n",
    "<!-- \n",
    "Distance = \\sum_{col=0}^{Total\\ Columns} Euclidean\\ Distance(df[col], df_{Ref}[col])   -->\n",
    "$$\n",
    "d(p, q) = \\sqrt({(p_1 - q_1)^2 + (p_2 - q_2)^2 + ... + (p_n - q_n)^2}) \\newline \n",
    "d(p, q) = \\sqrt(sum((p_i - q_i)^2 for\\ i\\ in\\ range(n)))\n",
    "$$"
   ]
  },
  {
   "cell_type": "code",
   "execution_count": 109,
   "id": "d95a6004-0ba4-4f9b-b628-1260e58e42e0",
   "metadata": {},
   "outputs": [
    {
     "name": "stdout",
     "output_type": "stream",
     "text": [
      "Distances:\n",
      "0      57.801384\n",
      "1     151.558570\n",
      "2      87.051709\n",
      "3     109.073370\n",
      "4      94.678403\n",
      "         ...    \n",
      "95    118.330047\n",
      "96     84.770278\n",
      "97     90.188691\n",
      "98     69.835521\n",
      "99     62.209324\n",
      "Length: 100, dtype: float64\n"
     ]
    },
    {
     "data": {
      "text/plain": [
       "(72, 26.514147167125703)"
      ]
     },
     "execution_count": 109,
     "metadata": {},
     "output_type": "execute_result"
    }
   ],
   "source": [
    "distances = df.agg(distance.euclidean, 1, v=df_example.to_numpy())\n",
    "print(f'Distances:\\n{distances}')\n",
    "nearest_index = distances.idxmin()\n",
    "nearest_index, min(distances)"
   ]
  },
  {
   "cell_type": "markdown",
   "id": "799eaa00-31b8-4202-90af-886df2014f0c",
   "metadata": {},
   "source": [
    "### Hence, the row with the lowest euclidean distance is chosen as reference for this particular test-data"
   ]
  },
  {
   "cell_type": "code",
   "execution_count": 110,
   "id": "d310bb4b-2f48-439c-9921-10ab660b6eec",
   "metadata": {},
   "outputs": [],
   "source": [
    "# df.loc[[nearest_index]], df_example"
   ]
  },
  {
   "cell_type": "code",
   "execution_count": 111,
   "id": "57134fdd-c9e4-4abb-ac0e-45fee157ba8d",
   "metadata": {},
   "outputs": [
    {
     "name": "stdout",
     "output_type": "stream",
     "text": [
      "72    26.514147\n",
      "dtype: float64\n",
      "     A   B   C   D\n",
      "72  32  75  11  82\n",
      "\n"
     ]
    },
    {
     "data": {
      "text/plain": [
       "A    15\n",
       "B    94\n",
       "C    18\n",
       "D    80\n",
       "Name: 0, dtype: int32"
      ]
     },
     "execution_count": 111,
     "metadata": {},
     "output_type": "execute_result"
    }
   ],
   "source": [
    "reference_point = df.loc[[nearest_index]]\n",
    "print(reference_point.agg(distance.euclidean, 1, df_example.to_numpy()))\n",
    "print(reference_point)\n",
    "print()\n",
    "df_example"
   ]
  },
  {
   "cell_type": "code",
   "execution_count": 112,
   "id": "e7f5826a-cb81-45f3-af37-2a77b69143f5",
   "metadata": {},
   "outputs": [],
   "source": [
    "# number of steps in integrated gradients\n",
    "num_steps = 10"
   ]
  },
  {
   "cell_type": "code",
   "execution_count": 113,
   "id": "cb62bd46-eafa-4d0a-ba88-05a41e38a884",
   "metadata": {},
   "outputs": [
    {
     "data": {
      "text/plain": [
       "(4,)"
      ]
     },
     "execution_count": 113,
     "metadata": {},
     "output_type": "execute_result"
    }
   ],
   "source": [
    "reference_point_arr = reference_point.iloc[0].to_numpy()\n",
    "reference_point_arr.shape "
   ]
  },
  {
   "cell_type": "code",
   "execution_count": 114,
   "id": "05b2ff74-583b-4ec7-839c-7f11e56f0c69",
   "metadata": {},
   "outputs": [
    {
     "data": {
      "text/plain": [
       "(array([32, 75, 11, 82]), array([15, 94, 18, 80]))"
      ]
     },
     "execution_count": 114,
     "metadata": {},
     "output_type": "execute_result"
    }
   ],
   "source": [
    "reference_point_arr, df_array "
   ]
  },
  {
   "cell_type": "code",
   "execution_count": 115,
   "id": "0dfc5d83-b742-4aa8-8b36-d03e1be6379d",
   "metadata": {},
   "outputs": [
    {
     "data": {
      "text/plain": [
       "array([[32.  , 75.  , 11.  , 82.  ],\n",
       "       [27.75, 79.75, 12.75, 81.5 ],\n",
       "       [23.5 , 84.5 , 14.5 , 81.  ],\n",
       "       [19.25, 89.25, 16.25, 80.5 ],\n",
       "       [15.  , 94.  , 18.  , 80.  ]])"
      ]
     },
     "execution_count": 115,
     "metadata": {},
     "output_type": "execute_result"
    }
   ],
   "source": [
    "np.linspace(reference_point_arr, df_array, 5)"
   ]
  },
  {
   "cell_type": "code",
   "execution_count": 116,
   "id": "9729289b-5599-428a-95af-ca8965b9cddf",
   "metadata": {},
   "outputs": [],
   "source": [
    "# Returns 2000 evenly spaced samples, calculated over the interval [reference_point_arr, df_array]\n",
    "interp_output = tf.convert_to_tensor(np.linspace(reference_point_arr, df_array, num_steps))"
   ]
  },
  {
   "cell_type": "code",
   "execution_count": 117,
   "id": "4791438e-33bf-44cc-9ae9-23ac481bd19c",
   "metadata": {},
   "outputs": [
    {
     "data": {
      "text/plain": [
       "TensorShape([10, 4])"
      ]
     },
     "execution_count": 117,
     "metadata": {},
     "output_type": "execute_result"
    }
   ],
   "source": [
    "interp_output.shape "
   ]
  },
  {
   "cell_type": "code",
   "execution_count": 118,
   "id": "0080de17-aa31-4fb8-8271-a6bbade4a765",
   "metadata": {},
   "outputs": [
    {
     "name": "stderr",
     "output_type": "stream",
     "text": [
      "D:\\After\\Fuse AI Trainee\\proj\\madi_env\\Lib\\site-packages\\keras\\src\\layers\\core\\dense.py:87: UserWarning: Do not pass an `input_shape`/`input_dim` argument to a layer. When using Sequential models, prefer using an `Input(shape)` object as the first layer in the model instead.\n",
      "  super().__init__(activity_regularizer=activity_regularizer, **kwargs)\n"
     ]
    },
    {
     "data": {
      "text/html": [
       "<pre style=\"white-space:pre;overflow-x:auto;line-height:normal;font-family:Menlo,'DejaVu Sans Mono',consolas,'Courier New',monospace\"><span style=\"font-weight: bold\">Model: \"sequential_3\"</span>\n",
       "</pre>\n"
      ],
      "text/plain": [
       "\u001b[1mModel: \"sequential_3\"\u001b[0m\n"
      ]
     },
     "metadata": {},
     "output_type": "display_data"
    },
    {
     "data": {
      "text/html": [
       "<pre style=\"white-space:pre;overflow-x:auto;line-height:normal;font-family:Menlo,'DejaVu Sans Mono',consolas,'Courier New',monospace\">┏━━━━━━━━━━━━━━━━━━━━━━━━━━━━━━━━━━━━━━┳━━━━━━━━━━━━━━━━━━━━━━━━━━━━━┳━━━━━━━━━━━━━━━━━┓\n",
       "┃<span style=\"font-weight: bold\"> Layer (type)                         </span>┃<span style=\"font-weight: bold\"> Output Shape                </span>┃<span style=\"font-weight: bold\">         Param # </span>┃\n",
       "┡━━━━━━━━━━━━━━━━━━━━━━━━━━━━━━━━━━━━━━╇━━━━━━━━━━━━━━━━━━━━━━━━━━━━━╇━━━━━━━━━━━━━━━━━┩\n",
       "│ dense (<span style=\"color: #0087ff; text-decoration-color: #0087ff\">Dense</span>)                        │ (<span style=\"color: #00d7ff; text-decoration-color: #00d7ff\">None</span>, <span style=\"color: #00af00; text-decoration-color: #00af00\">128</span>)                 │             <span style=\"color: #00af00; text-decoration-color: #00af00\">640</span> │\n",
       "├──────────────────────────────────────┼─────────────────────────────┼─────────────────┤\n",
       "│ dropout (<span style=\"color: #0087ff; text-decoration-color: #0087ff\">Dropout</span>)                    │ (<span style=\"color: #00d7ff; text-decoration-color: #00d7ff\">None</span>, <span style=\"color: #00af00; text-decoration-color: #00af00\">128</span>)                 │               <span style=\"color: #00af00; text-decoration-color: #00af00\">0</span> │\n",
       "├──────────────────────────────────────┼─────────────────────────────┼─────────────────┤\n",
       "│ dense_1 (<span style=\"color: #0087ff; text-decoration-color: #0087ff\">Dense</span>)                      │ (<span style=\"color: #00d7ff; text-decoration-color: #00d7ff\">None</span>, <span style=\"color: #00af00; text-decoration-color: #00af00\">128</span>)                 │          <span style=\"color: #00af00; text-decoration-color: #00af00\">16,512</span> │\n",
       "├──────────────────────────────────────┼─────────────────────────────┼─────────────────┤\n",
       "│ dropout_1 (<span style=\"color: #0087ff; text-decoration-color: #0087ff\">Dropout</span>)                  │ (<span style=\"color: #00d7ff; text-decoration-color: #00d7ff\">None</span>, <span style=\"color: #00af00; text-decoration-color: #00af00\">128</span>)                 │               <span style=\"color: #00af00; text-decoration-color: #00af00\">0</span> │\n",
       "├──────────────────────────────────────┼─────────────────────────────┼─────────────────┤\n",
       "│ dense_2 (<span style=\"color: #0087ff; text-decoration-color: #0087ff\">Dense</span>)                      │ (<span style=\"color: #00d7ff; text-decoration-color: #00d7ff\">None</span>, <span style=\"color: #00af00; text-decoration-color: #00af00\">128</span>)                 │          <span style=\"color: #00af00; text-decoration-color: #00af00\">16,512</span> │\n",
       "├──────────────────────────────────────┼─────────────────────────────┼─────────────────┤\n",
       "│ dropout_2 (<span style=\"color: #0087ff; text-decoration-color: #0087ff\">Dropout</span>)                  │ (<span style=\"color: #00d7ff; text-decoration-color: #00d7ff\">None</span>, <span style=\"color: #00af00; text-decoration-color: #00af00\">128</span>)                 │               <span style=\"color: #00af00; text-decoration-color: #00af00\">0</span> │\n",
       "├──────────────────────────────────────┼─────────────────────────────┼─────────────────┤\n",
       "│ dense_3 (<span style=\"color: #0087ff; text-decoration-color: #0087ff\">Dense</span>)                      │ (<span style=\"color: #00d7ff; text-decoration-color: #00d7ff\">None</span>, <span style=\"color: #00af00; text-decoration-color: #00af00\">1</span>)                   │             <span style=\"color: #00af00; text-decoration-color: #00af00\">129</span> │\n",
       "└──────────────────────────────────────┴─────────────────────────────┴─────────────────┘\n",
       "</pre>\n"
      ],
      "text/plain": [
       "┏━━━━━━━━━━━━━━━━━━━━━━━━━━━━━━━━━━━━━━┳━━━━━━━━━━━━━━━━━━━━━━━━━━━━━┳━━━━━━━━━━━━━━━━━┓\n",
       "┃\u001b[1m \u001b[0m\u001b[1mLayer (type)                        \u001b[0m\u001b[1m \u001b[0m┃\u001b[1m \u001b[0m\u001b[1mOutput Shape               \u001b[0m\u001b[1m \u001b[0m┃\u001b[1m \u001b[0m\u001b[1m        Param #\u001b[0m\u001b[1m \u001b[0m┃\n",
       "┡━━━━━━━━━━━━━━━━━━━━━━━━━━━━━━━━━━━━━━╇━━━━━━━━━━━━━━━━━━━━━━━━━━━━━╇━━━━━━━━━━━━━━━━━┩\n",
       "│ dense (\u001b[38;5;33mDense\u001b[0m)                        │ (\u001b[38;5;45mNone\u001b[0m, \u001b[38;5;34m128\u001b[0m)                 │             \u001b[38;5;34m640\u001b[0m │\n",
       "├──────────────────────────────────────┼─────────────────────────────┼─────────────────┤\n",
       "│ dropout (\u001b[38;5;33mDropout\u001b[0m)                    │ (\u001b[38;5;45mNone\u001b[0m, \u001b[38;5;34m128\u001b[0m)                 │               \u001b[38;5;34m0\u001b[0m │\n",
       "├──────────────────────────────────────┼─────────────────────────────┼─────────────────┤\n",
       "│ dense_1 (\u001b[38;5;33mDense\u001b[0m)                      │ (\u001b[38;5;45mNone\u001b[0m, \u001b[38;5;34m128\u001b[0m)                 │          \u001b[38;5;34m16,512\u001b[0m │\n",
       "├──────────────────────────────────────┼─────────────────────────────┼─────────────────┤\n",
       "│ dropout_1 (\u001b[38;5;33mDropout\u001b[0m)                  │ (\u001b[38;5;45mNone\u001b[0m, \u001b[38;5;34m128\u001b[0m)                 │               \u001b[38;5;34m0\u001b[0m │\n",
       "├──────────────────────────────────────┼─────────────────────────────┼─────────────────┤\n",
       "│ dense_2 (\u001b[38;5;33mDense\u001b[0m)                      │ (\u001b[38;5;45mNone\u001b[0m, \u001b[38;5;34m128\u001b[0m)                 │          \u001b[38;5;34m16,512\u001b[0m │\n",
       "├──────────────────────────────────────┼─────────────────────────────┼─────────────────┤\n",
       "│ dropout_2 (\u001b[38;5;33mDropout\u001b[0m)                  │ (\u001b[38;5;45mNone\u001b[0m, \u001b[38;5;34m128\u001b[0m)                 │               \u001b[38;5;34m0\u001b[0m │\n",
       "├──────────────────────────────────────┼─────────────────────────────┼─────────────────┤\n",
       "│ dense_3 (\u001b[38;5;33mDense\u001b[0m)                      │ (\u001b[38;5;45mNone\u001b[0m, \u001b[38;5;34m1\u001b[0m)                   │             \u001b[38;5;34m129\u001b[0m │\n",
       "└──────────────────────────────────────┴─────────────────────────────┴─────────────────┘\n"
      ]
     },
     "metadata": {},
     "output_type": "display_data"
    },
    {
     "data": {
      "text/html": [
       "<pre style=\"white-space:pre;overflow-x:auto;line-height:normal;font-family:Menlo,'DejaVu Sans Mono',consolas,'Courier New',monospace\"><span style=\"font-weight: bold\"> Total params: </span><span style=\"color: #00af00; text-decoration-color: #00af00\">33,793</span> (132.00 KB)\n",
       "</pre>\n"
      ],
      "text/plain": [
       "\u001b[1m Total params: \u001b[0m\u001b[38;5;34m33,793\u001b[0m (132.00 KB)\n"
      ]
     },
     "metadata": {},
     "output_type": "display_data"
    },
    {
     "data": {
      "text/html": [
       "<pre style=\"white-space:pre;overflow-x:auto;line-height:normal;font-family:Menlo,'DejaVu Sans Mono',consolas,'Courier New',monospace\"><span style=\"font-weight: bold\"> Trainable params: </span><span style=\"color: #00af00; text-decoration-color: #00af00\">33,793</span> (132.00 KB)\n",
       "</pre>\n"
      ],
      "text/plain": [
       "\u001b[1m Trainable params: \u001b[0m\u001b[38;5;34m33,793\u001b[0m (132.00 KB)\n"
      ]
     },
     "metadata": {},
     "output_type": "display_data"
    },
    {
     "data": {
      "text/html": [
       "<pre style=\"white-space:pre;overflow-x:auto;line-height:normal;font-family:Menlo,'DejaVu Sans Mono',consolas,'Courier New',monospace\"><span style=\"font-weight: bold\"> Non-trainable params: </span><span style=\"color: #00af00; text-decoration-color: #00af00\">0</span> (0.00 B)\n",
       "</pre>\n"
      ],
      "text/plain": [
       "\u001b[1m Non-trainable params: \u001b[0m\u001b[38;5;34m0\u001b[0m (0.00 B)\n"
      ]
     },
     "metadata": {},
     "output_type": "display_data"
    }
   ],
   "source": [
    "\n",
    "model = models.Sequential([\n",
    "    layers.Dense(128, input_shape=(4,), activation='relu', name='dense'),\n",
    "    layers.Dropout(0.5, name='dropout'),\n",
    "    layers.Dense(128, activation='relu', name='dense_1'),\n",
    "    layers.Dropout(0.5, name='dropout_1'),\n",
    "    layers.Dense(128, activation='relu', name='dense_2'),\n",
    "    layers.Dropout(0.5, name='dropout_2'),\n",
    "    layers.Dense(1, activation='sigmoid', name='dense_3')  # Assuming binary classification\n",
    "])\n",
    "\n",
    "# Compile the model\n",
    "model.compile(optimizer='adam', loss='binary_crossentropy', metrics=['accuracy'])\n",
    "\n",
    "model.summary()"
   ]
  },
  {
   "cell_type": "code",
   "execution_count": 119,
   "id": "5b06e6a4-5bb6-4e9b-94d7-ad4782724fbb",
   "metadata": {},
   "outputs": [
    {
     "data": {
      "text/plain": [
       "TensorShape([10, 4])"
      ]
     },
     "execution_count": 119,
     "metadata": {},
     "output_type": "execute_result"
    }
   ],
   "source": [
    "interp_output.shape "
   ]
  },
  {
   "cell_type": "code",
   "execution_count": 120,
   "id": "c4280496-4ae7-44e9-9ebe-c9824b38d19d",
   "metadata": {},
   "outputs": [],
   "source": [
    "with tf.GradientTape() as tape:\n",
    "    tape.watch(interp_output)\n",
    "    outs = model(interp_output)"
   ]
  },
  {
   "cell_type": "code",
   "execution_count": 121,
   "id": "0a371e95-02cd-4c89-a666-9214e24fcce4",
   "metadata": {},
   "outputs": [
    {
     "data": {
      "text/plain": [
       "TensorShape([10, 1])"
      ]
     },
     "execution_count": 121,
     "metadata": {},
     "output_type": "execute_result"
    }
   ],
   "source": [
    "outs.shape"
   ]
  },
  {
   "cell_type": "code",
   "execution_count": 122,
   "id": "de9ba5fd-80c9-4d72-8529-57d679292c4b",
   "metadata": {},
   "outputs": [
    {
     "data": {
      "text/plain": [
       "(<tf.Tensor: shape=(10, 1), dtype=float32, numpy=\n",
       " array([[5.4455290e-05],\n",
       "        [4.9641192e-05],\n",
       "        [4.2132626e-05],\n",
       "        [3.4389563e-05],\n",
       "        [2.7813468e-05],\n",
       "        [2.2652768e-05],\n",
       "        [1.8951841e-05],\n",
       "        [1.7007967e-05],\n",
       "        [1.5427217e-05],\n",
       "        [1.2973804e-05]], dtype=float32)>,\n",
       " <tf.Tensor: shape=(10, 4), dtype=float64, numpy=\n",
       " array([[32.        , 75.        , 11.        , 82.        ],\n",
       "        [30.11111111, 77.11111111, 11.77777778, 81.77777778],\n",
       "        [28.22222222, 79.22222222, 12.55555556, 81.55555556],\n",
       "        [26.33333333, 81.33333333, 13.33333333, 81.33333333],\n",
       "        [24.44444444, 83.44444444, 14.11111111, 81.11111111],\n",
       "        [22.55555556, 85.55555556, 14.88888889, 80.88888889],\n",
       "        [20.66666667, 87.66666667, 15.66666667, 80.66666667],\n",
       "        [18.77777778, 89.77777778, 16.44444444, 80.44444444],\n",
       "        [16.88888889, 91.88888889, 17.22222222, 80.22222222],\n",
       "        [15.        , 94.        , 18.        , 80.        ]])>)"
      ]
     },
     "execution_count": 122,
     "metadata": {},
     "output_type": "execute_result"
    }
   ],
   "source": [
    "outs , interp_output"
   ]
  },
  {
   "cell_type": "code",
   "execution_count": 123,
   "id": "e0ee6fbd-f7b4-43cf-9f9a-c1a7e11cbe84",
   "metadata": {},
   "outputs": [
    {
     "data": {
      "text/plain": [
       "<tf.Tensor: shape=(10, 4), dtype=float64, numpy=\n",
       "array([[-2.02911451e-06, -3.69601503e-06, -2.83344116e-06,\n",
       "        -1.96727296e-06],\n",
       "       [-1.33865274e-06, -2.95511677e-06, -1.87611022e-06,\n",
       "        -2.46612763e-06],\n",
       "       [-1.11751433e-07, -3.59705427e-06, -7.01390434e-07,\n",
       "        -1.56367810e-06],\n",
       "       [ 2.16653007e-07, -3.41333134e-06, -6.79029711e-07,\n",
       "        -8.91003538e-07],\n",
       "       [-1.84831805e-07, -2.53865414e-06, -7.83181974e-07,\n",
       "        -7.93330116e-07],\n",
       "       [ 2.89326749e-08, -1.79190806e-06, -9.21726382e-07,\n",
       "        -9.38223707e-07],\n",
       "       [-1.23133390e-07, -1.37775510e-06, -6.67743052e-07,\n",
       "        -8.96050324e-07],\n",
       "       [-3.64695865e-07, -9.30425642e-07, -1.86356019e-07,\n",
       "        -1.16019066e-06],\n",
       "       [-1.15786264e-07, -1.19211688e-06, -4.64292157e-07,\n",
       "        -6.41057625e-07],\n",
       "       [ 8.56318678e-08, -1.01052024e-06, -3.52140830e-07,\n",
       "        -5.74296394e-07]])>"
      ]
     },
     "execution_count": 123,
     "metadata": {},
     "output_type": "execute_result"
    }
   ],
   "source": [
    "gradients = tape.gradient(outs, interp_output)\n",
    "gradients"
   ]
  },
  {
   "cell_type": "code",
   "execution_count": 124,
   "id": "9d138472-b121-43ce-b172-1b693adae4c5",
   "metadata": {},
   "outputs": [
    {
     "data": {
      "text/plain": [
       "array([-3.93674846e-06, -2.25028975e-05, -9.46541194e-06, -1.18912311e-05])"
      ]
     },
     "execution_count": 124,
     "metadata": {},
     "output_type": "execute_result"
    }
   ],
   "source": [
    "#gradients sum\n",
    "# integral over alpha from 0 to 1 on dF/dx_i(alpha)\n",
    "grad_sum = np.array(np.matrix(gradients).sum(axis=0).tolist()[0])\n",
    "grad_sum "
   ]
  },
  {
   "cell_type": "code",
   "execution_count": 125,
   "id": "aa6af3ce-ae0f-49ac-84a7-37d61eb262ec",
   "metadata": {},
   "outputs": [
    {
     "data": {
      "text/plain": [
       "(<tf.Tensor: shape=(), dtype=float64, numpy=-3.936748456112582e-06>,\n",
       " <tf.Tensor: shape=(), dtype=float64, numpy=-2.2502897479625972e-05>,\n",
       " <tf.Tensor: shape=(), dtype=float64, numpy=-9.465411935138945e-06>,\n",
       " <tf.Tensor: shape=(), dtype=float64, numpy=-1.1891231054050877e-05>)"
      ]
     },
     "execution_count": 125,
     "metadata": {},
     "output_type": "execute_result"
    }
   ],
   "source": [
    "sum(gradients[:,0]), sum(gradients[:,1]),sum(gradients[:,2]),sum(gradients[:,3]) "
   ]
  },
  {
   "cell_type": "markdown",
   "id": "022ae173-8724-488b-b33d-4fe03fa9a17c",
   "metadata": {},
   "source": [
    "## Sum of all gradients for every variable "
   ]
  },
  {
   "cell_type": "code",
   "execution_count": 126,
   "id": "3626b07d-ea1d-4877-a48e-21fcc890147a",
   "metadata": {},
   "outputs": [
    {
     "data": {
      "text/plain": [
       "(array([32, 75, 11, 82]), array([15, 94, 18, 80]))"
      ]
     },
     "execution_count": 126,
     "metadata": {},
     "output_type": "execute_result"
    }
   ],
   "source": [
    "reference_point_arr, df_array"
   ]
  },
  {
   "cell_type": "code",
   "execution_count": 127,
   "id": "8901617f-e6db-4777-80ef-1dcaee4d3fa9",
   "metadata": {},
   "outputs": [
    {
     "data": {
      "text/plain": [
       "array([ 17, -19,  -7,   2])"
      ]
     },
     "execution_count": 127,
     "metadata": {},
     "output_type": "execute_result"
    }
   ],
   "source": [
    "# for the attribution \n",
    "# IG = difference * grad_sum\n",
    "# # ig_i = (x_i - x'_i) * integral over alpha from 0 to 1 on dF/dx_i(alpha)\n",
    "difference_ = reference_point_arr-df_array\n",
    "difference_\n"
   ]
  },
  {
   "cell_type": "code",
   "execution_count": 128,
   "id": "3752d513-a887-45d0-ad09-77739dd5700a",
   "metadata": {},
   "outputs": [
    {
     "data": {
      "text/plain": [
       "((4,), (4,))"
      ]
     },
     "execution_count": 128,
     "metadata": {},
     "output_type": "execute_result"
    }
   ],
   "source": [
    "grad_sum.shape, difference_.shape "
   ]
  },
  {
   "cell_type": "code",
   "execution_count": 129,
   "id": "50bf6fae-6a02-417d-9082-361e99b2ae2c",
   "metadata": {},
   "outputs": [
    {
     "data": {
      "text/plain": [
       "array([-6.69247238e-06,  4.27555052e-05,  6.62578835e-06, -2.37824621e-06])"
      ]
     },
     "execution_count": 129,
     "metadata": {},
     "output_type": "execute_result"
    }
   ],
   "source": [
    "attribution = np.multiply(grad_sum, difference_) / float(num_steps)\n",
    "attribution "
   ]
  },
  {
   "cell_type": "code",
   "execution_count": 130,
   "id": "4738ae59-6808-48e5-8b24-979411e1f7af",
   "metadata": {},
   "outputs": [
    {
     "data": {
      "text/plain": [
       "4.0310574979685045e-05"
      ]
     },
     "execution_count": 130,
     "metadata": {},
     "output_type": "execute_result"
    }
   ],
   "source": [
    "sum(attribution)"
   ]
  },
  {
   "cell_type": "code",
   "execution_count": 131,
   "id": "69615c3e-99bd-4493-8c4d-3b7970d0ee24",
   "metadata": {},
   "outputs": [
    {
     "data": {
      "text/plain": [
       "5.845201215208817e-05"
      ]
     },
     "execution_count": 131,
     "metadata": {},
     "output_type": "execute_result"
    }
   ],
   "source": [
    "denom = sum([abs(val) for val in attribution])\n",
    "denom "
   ]
  },
  {
   "cell_type": "code",
   "execution_count": 132,
   "id": "d409439a-d890-48fa-ae62-cd867c1535b8",
   "metadata": {},
   "outputs": [
    {
     "data": {
      "text/plain": [
       "(array([-0.11449516,  0.73146336,  0.11335432, -0.04068716]),\n",
       " matrix([[-2.02911451e-06, -3.69601503e-06, -2.83344116e-06,\n",
       "          -1.96727296e-06],\n",
       "         [-1.33865274e-06, -2.95511677e-06, -1.87611022e-06,\n",
       "          -2.46612763e-06],\n",
       "         [-1.11751433e-07, -3.59705427e-06, -7.01390434e-07,\n",
       "          -1.56367810e-06],\n",
       "         [ 2.16653007e-07, -3.41333134e-06, -6.79029711e-07,\n",
       "          -8.91003538e-07],\n",
       "         [-1.84831805e-07, -2.53865414e-06, -7.83181974e-07,\n",
       "          -7.93330116e-07],\n",
       "         [ 2.89326749e-08, -1.79190806e-06, -9.21726382e-07,\n",
       "          -9.38223707e-07],\n",
       "         [-1.23133390e-07, -1.37775510e-06, -6.67743052e-07,\n",
       "          -8.96050324e-07],\n",
       "         [-3.64695865e-07, -9.30425642e-07, -1.86356019e-07,\n",
       "          -1.16019066e-06],\n",
       "         [-1.15786264e-07, -1.19211688e-06, -4.64292157e-07,\n",
       "          -6.41057625e-07],\n",
       "         [ 8.56318678e-08, -1.01052024e-06, -3.52140830e-07,\n",
       "          -5.74296394e-07]]))"
      ]
     },
     "execution_count": 132,
     "metadata": {},
     "output_type": "execute_result"
    }
   ],
   "source": [
    "attribution/denom , np.matrix(gradients)"
   ]
  },
  {
   "cell_type": "code",
   "execution_count": 133,
   "id": "435ed889-f789-4837-b920-2fe610ff870f",
   "metadata": {},
   "outputs": [
    {
     "data": {
      "text/plain": [
       "[6.6924723753913895e-06,\n",
       " 4.275550521128935e-05,\n",
       " 6.625788354597262e-06,\n",
       " 2.3782462108101752e-06]"
      ]
     },
     "execution_count": 133,
     "metadata": {},
     "output_type": "execute_result"
    }
   ],
   "source": [
    "# getting absolute value for the attribution/explanation\n",
    "attribution_ = [abs(v) for v in attribution]\n",
    "attribution_ "
   ]
  },
  {
   "cell_type": "code",
   "execution_count": 134,
   "id": "28f11e08-4d5b-4196-94a1-d32e72c065be",
   "metadata": {},
   "outputs": [
    {
     "data": {
      "text/html": [
       "<div>\n",
       "<style scoped>\n",
       "    .dataframe tbody tr th:only-of-type {\n",
       "        vertical-align: middle;\n",
       "    }\n",
       "\n",
       "    .dataframe tbody tr th {\n",
       "        vertical-align: top;\n",
       "    }\n",
       "\n",
       "    .dataframe thead th {\n",
       "        text-align: right;\n",
       "    }\n",
       "</style>\n",
       "<table border=\"1\" class=\"dataframe\">\n",
       "  <thead>\n",
       "    <tr style=\"text-align: right;\">\n",
       "      <th></th>\n",
       "      <th>A</th>\n",
       "      <th>B</th>\n",
       "      <th>C</th>\n",
       "      <th>D</th>\n",
       "    </tr>\n",
       "  </thead>\n",
       "  <tbody>\n",
       "    <tr>\n",
       "      <th>72</th>\n",
       "      <td>32</td>\n",
       "      <td>75</td>\n",
       "      <td>11</td>\n",
       "      <td>82</td>\n",
       "    </tr>\n",
       "  </tbody>\n",
       "</table>\n",
       "</div>"
      ],
      "text/plain": [
       "     A   B   C   D\n",
       "72  32  75  11  82"
      ]
     },
     "execution_count": 134,
     "metadata": {},
     "output_type": "execute_result"
    }
   ],
   "source": [
    "reference_point"
   ]
  },
  {
   "cell_type": "code",
   "execution_count": 135,
   "id": "248c3514-b79a-43c2-b5ff-667845d6adac",
   "metadata": {},
   "outputs": [
    {
     "data": {
      "text/plain": [
       "array([-6.69247238e-06,  4.27555052e-05,  6.62578835e-06, -2.37824621e-06])"
      ]
     },
     "execution_count": 135,
     "metadata": {},
     "output_type": "execute_result"
    }
   ],
   "source": [
    "attribution "
   ]
  },
  {
   "cell_type": "code",
   "execution_count": 136,
   "id": "d203c77e-866e-49b3-8198-4d7e89eb25f8",
   "metadata": {},
   "outputs": [
    {
     "data": {
      "text/plain": [
       "RangeIndex(start=0, stop=100, step=1)"
      ]
     },
     "execution_count": 136,
     "metadata": {},
     "output_type": "execute_result"
    }
   ],
   "source": [
    "df.index "
   ]
  },
  {
   "cell_type": "code",
   "execution_count": 137,
   "id": "b20ff0be-5853-4e82-91f2-9ab42d9195bf",
   "metadata": {},
   "outputs": [
    {
     "name": "stdout",
     "output_type": "stream",
     "text": [
      "A\n",
      "B\n",
      "C\n",
      "D\n"
     ]
    },
    {
     "data": {
      "text/plain": [
       "({'A': -6.6924723753913895e-06,\n",
       "  'B': 4.275550521128935e-05,\n",
       "  'C': 6.625788354597262e-06,\n",
       "  'D': -2.3782462108101752e-06},\n",
       " {'A': 32, 'B': 75, 'C': 11, 'D': 82})"
      ]
     },
     "execution_count": 137,
     "metadata": {},
     "output_type": "execute_result"
    }
   ],
   "source": [
    "attribution_dict = {}\n",
    "reference_point_dict = {}\n",
    "for i, col in enumerate(df_example.index):\n",
    "    print(col)\n",
    "    attribution_dict[col] = attribution[i]\n",
    "    reference_point_dict[col] = reference_point.iloc[0][col]\n",
    "attribution_dict, reference_point_dict"
   ]
  },
  {
   "cell_type": "code",
   "execution_count": 138,
   "id": "63748cf0-ccc4-44a5-bf8e-82f770dc7ec4",
   "metadata": {},
   "outputs": [
    {
     "data": {
      "text/plain": [
       "40"
      ]
     },
     "execution_count": 138,
     "metadata": {},
     "output_type": "execute_result"
    }
   ],
   "source": [
    "df.iloc[10]['A']"
   ]
  },
  {
   "cell_type": "markdown",
   "id": "884ed6e8-f803-4c3e-bb09-14fee2d24e31",
   "metadata": {},
   "source": [
    "### Plotting the Attribution Plot "
   ]
  },
  {
   "cell_type": "code",
   "execution_count": 139,
   "id": "0bc78742-6314-4af6-b059-04f76c03c6f5",
   "metadata": {},
   "outputs": [
    {
     "name": "stdout",
     "output_type": "stream",
     "text": [
      "\u001b[1m1/1\u001b[0m \u001b[32m━━━━━━━━━━━━━━━━━━━━\u001b[0m\u001b[37m\u001b[0m \u001b[1m0s\u001b[0m 48ms/step\n"
     ]
    },
    {
     "data": {
      "text/plain": [
       "array([[1.2973827e-05]], dtype=float32)"
      ]
     },
     "execution_count": 139,
     "metadata": {},
     "output_type": "execute_result"
    }
   ],
   "source": [
    "anomaly_score = model.predict(np.matrix(np.array(df_example)))\n",
    "anomaly_score "
   ]
  },
  {
   "cell_type": "code",
   "execution_count": 145,
   "id": "6638c5e8-a8b2-4df8-8de0-98f50a2ef796",
   "metadata": {},
   "outputs": [
    {
     "data": {
      "text/plain": [
       "(A    15.0\n",
       " B    94.0\n",
       " C    18.0\n",
       " D    80.0\n",
       " Name: 0, dtype: float64,\n",
       "      A   B   C   D\n",
       " 72  32  75  11  82,\n",
       " {'A': -6.6924723753913895e-06,\n",
       "  'B': 4.275550521128935e-05,\n",
       "  'C': 6.625788354597262e-06,\n",
       "  'D': -2.3782462108101752e-06})"
      ]
     },
     "execution_count": 145,
     "metadata": {},
     "output_type": "execute_result"
    }
   ],
   "source": [
    "df_example_val = pd.Series(df_example).astype(float)\n",
    "reference_point_val = reference_point.iloc[0].astype(float)\n",
    "attribution_val = pd.Series(attribution_dict).astype(float)\n",
    "df_example_val, reference_point, attribution_dict"
   ]
  },
  {
   "cell_type": "code",
   "execution_count": 146,
   "id": "29b8dbcc-13a6-4792-a67c-032be18fbffd",
   "metadata": {},
   "outputs": [],
   "source": [
    "df_attribution = pd.concat([df_example_val, reference_point_val, attribution_val], axis = 1,\n",
    "                           keys=['observed_value', 'expected_value', 'attribution'], sort = True)"
   ]
  },
  {
   "cell_type": "code",
   "execution_count": 147,
   "id": "89f0b941-7332-4481-be5a-41fa7c661047",
   "metadata": {},
   "outputs": [
    {
     "data": {
      "text/html": [
       "<div>\n",
       "<style scoped>\n",
       "    .dataframe tbody tr th:only-of-type {\n",
       "        vertical-align: middle;\n",
       "    }\n",
       "\n",
       "    .dataframe tbody tr th {\n",
       "        vertical-align: top;\n",
       "    }\n",
       "\n",
       "    .dataframe thead th {\n",
       "        text-align: right;\n",
       "    }\n",
       "</style>\n",
       "<table border=\"1\" class=\"dataframe\">\n",
       "  <thead>\n",
       "    <tr style=\"text-align: right;\">\n",
       "      <th></th>\n",
       "      <th>observed_value</th>\n",
       "      <th>expected_value</th>\n",
       "      <th>attribution</th>\n",
       "    </tr>\n",
       "  </thead>\n",
       "  <tbody>\n",
       "    <tr>\n",
       "      <th>A</th>\n",
       "      <td>15.0</td>\n",
       "      <td>32.0</td>\n",
       "      <td>-0.000007</td>\n",
       "    </tr>\n",
       "    <tr>\n",
       "      <th>B</th>\n",
       "      <td>94.0</td>\n",
       "      <td>75.0</td>\n",
       "      <td>0.000043</td>\n",
       "    </tr>\n",
       "    <tr>\n",
       "      <th>C</th>\n",
       "      <td>18.0</td>\n",
       "      <td>11.0</td>\n",
       "      <td>0.000007</td>\n",
       "    </tr>\n",
       "    <tr>\n",
       "      <th>D</th>\n",
       "      <td>80.0</td>\n",
       "      <td>82.0</td>\n",
       "      <td>-0.000002</td>\n",
       "    </tr>\n",
       "  </tbody>\n",
       "</table>\n",
       "</div>"
      ],
      "text/plain": [
       "   observed_value  expected_value  attribution\n",
       "A            15.0            32.0    -0.000007\n",
       "B            94.0            75.0     0.000043\n",
       "C            18.0            11.0     0.000007\n",
       "D            80.0            82.0    -0.000002"
      ]
     },
     "execution_count": 147,
     "metadata": {},
     "output_type": "execute_result"
    }
   ],
   "source": [
    "df_attribution"
   ]
  },
  {
   "cell_type": "code",
   "execution_count": 163,
   "id": "c62da1c3-9b0d-4506-8368-a75d02922d90",
   "metadata": {},
   "outputs": [],
   "source": [
    "#@title Plotting utilities\n",
    "def plot_attribution(df_attribution: pd.DataFrame, anomaly_score: float) -> None:\n",
    "  \"\"\"Plots the attribution as a pie chart.\n",
    "\n",
    "  The center contains the anmomaly score. The wedges are ordered clockwise\n",
    "  from the most blame to the least. The percentages are the normalized\n",
    "  percentages (Blame(d) / Sum of Blames). The values outside the wedges\n",
    "  indicate the observed value, and the expected value in parentheses.\n",
    "\n",
    "  Args:\n",
    "    df_attribution: dataframe with observed_value, expected_value, and\n",
    "    attribution for each dimension.\n",
    "    anomaly_score: score ranging between Normal (1) and Anomalous (0).\n",
    "\n",
    "  \"\"\"\n",
    "  df_attribution = df_attribution.sort_values(by='attribution', ascending=False)\n",
    "  norm = plt.Normalize()\n",
    "  names=[]\n",
    "  sizes = []\n",
    "  sum_big = 0\n",
    "  for fn, row in df_attribution.iterrows():\n",
    "    # Only show the dimensions with a blame > 5%.\n",
    "    if row.attribution > 0.07:\n",
    "      names.append('%s\\n%3.1f (%3.1f)' %(fn, row.observed_value, row.expected_value))\n",
    "      wedge_size = int(100* row.attribution)\n",
    "      sum_big += wedge_size\n",
    "      sizes.append(wedge_size)\n",
    "  names.append('other')\n",
    "  sizes.append(int(100 - sum_big))\n",
    "\n",
    "  # Create a circle for the center of the plot\n",
    "  num_p_score_steps = 100\n",
    "  center_color_index  = int(num_p_score_steps*anomaly_score)\n",
    "  my_circle=plt.Circle( (0,0), 0.45, facecolor=plt.cm.RdYlGn(\n",
    "      norm(range(num_p_score_steps+1)))[center_color_index],\n",
    "      edgecolor='white', linewidth=3)\n",
    "\n",
    "  fig, ax = plt.subplots()\n",
    "  fig.set_figheight(10)\n",
    "  fig.set_figwidth(10)\n",
    "\n",
    "  center_text = \"%.2f\" %(anomaly_score)\n",
    "  if (center_color_index < 20 ) or (center_color_index > 80):\n",
    "    text_color = 'white'\n",
    "  else:\n",
    "    text_color = 'black'\n",
    "  ax.text(0,0,center_text, fontsize=28,horizontalalignment='center',\n",
    "          color=text_color, weight=\"bold\")\n",
    "\n",
    "  # Custom colors --> colors will cycle\n",
    "  norm = plt.Normalize()\n",
    "  # Choose nine colors to cycle through to show contrast between slices.\n",
    "  pie_plot = plt.pie(sizes, labels=names, colors=plt.cm.RdYlBu(norm(range(9)), alpha=0.6),\n",
    "                     startangle=90, counterclock=False, autopct='%1.0f%%',\n",
    "                     pctdistance=0.70, textprops=\n",
    "                     dict(color=\"black\", weight=\"bold\", fontsize=28))\n",
    "\n",
    "  for lab in pie_plot[1]:\n",
    "    lab.set_fontsize(28)\n",
    "  p=plt.gcf()\n",
    "  p.gca().add_artist(my_circle)\n",
    "  plt.show()\n"
   ]
  },
  {
   "cell_type": "code",
   "execution_count": 164,
   "id": "f13ec215-5db8-44a5-8b58-82443a5900d5",
   "metadata": {},
   "outputs": [
    {
     "data": {
      "image/png": "[encoded data removed]",
      "text/plain": [
       "<Figure size 1000x1000 with 1 Axes>"
      ]
     },
     "metadata": {},
     "output_type": "display_data"
    }
   ],
   "source": [
    "plot_attribution(df_attribution, anomaly_score) "
   ]
  },
  {
   "cell_type": "code",
   "execution_count": 165,
   "id": "9bca213d-b78c-4a02-bf71-76d958d9196f",
   "metadata": {},
   "outputs": [
    {
     "name": "stdout",
     "output_type": "stream",
     "text": [
      "          observed_value  expected_value  attribution\n",
      "Feature1        3.745401        1.559945     0.009284\n",
      "Feature2        9.507143        0.580836     0.437468\n",
      "Feature3        7.319939        8.661761     0.375464\n",
      "Feature4        5.986585        6.011150     0.095773\n",
      "Feature5        1.560186        7.080726     0.082010\n",
      "Anomaly Score: 0.18340450985343382\n"
     ]
    },
    {
     "data": {
      "image/png": "[encoded data removed]",
      "text/plain": [
       "<Figure size 1000x1000 with 1 Axes>"
      ]
     },
     "metadata": {},
     "output_type": "display_data"
    }
   ],
   "source": [
    "import pandas as pd\n",
    "import numpy as np\n",
    "import matplotlib.pyplot as plt\n",
    "\n",
    "# Generate random data for a DataFrame\n",
    "np.random.seed(42)  # For reproducibility\n",
    "\n",
    "# Create a demo DataFrame with 5 columns: observed_value, expected_value, and attribution\n",
    "df_attribution = pd.DataFrame({\n",
    "    'observed_value': np.random.uniform(0, 10, 5),  # Random observed values between 0 and 10\n",
    "    'expected_value': np.random.uniform(0, 10, 5),  # Random expected values between 0 and 10\n",
    "    'attribution': np.random.uniform(0, 1, 5)       # Random attribution values between 0 and 1\n",
    "}, index=['Feature1', 'Feature2', 'Feature3', 'Feature4', 'Feature5'])\n",
    "\n",
    "# Normalize the attribution column to sum up to 1\n",
    "df_attribution['attribution'] /= df_attribution['attribution'].sum()\n",
    "\n",
    "# Generate a random anomaly score between 0 and 1\n",
    "anomaly_score = np.random.uniform(0, 1)\n",
    "\n",
    "print(df_attribution)\n",
    "print(\"Anomaly Score:\", anomaly_score)\n",
    "\n",
    "\n",
    "plot_attribution(df_attribution, anomaly_score)\n"
   ]
  }
 ],
 "metadata": {
  "kernelspec": {
   "display_name": "madi_env",
   "language": "python",
   "name": "madi_env"
  },
  "language_info": {
   "codemirror_mode": {
    "name": "ipython",
    "version": 3
   },
   "file_extension": ".py",
   "mimetype": "text/x-python",
   "name": "python",
   "nbconvert_exporter": "python",
   "pygments_lexer": "ipython3",
   "version": "3.11.4"
  }
 },
 "nbformat": 4,
 "nbformat_minor": 5
}
